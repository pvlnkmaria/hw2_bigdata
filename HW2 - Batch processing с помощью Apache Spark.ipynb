{
 "cells": [
  {
   "cell_type": "code",
   "execution_count": 1,
   "id": "a2b06d19-8478-4df4-bb2d-99dfa4f07aad",
   "metadata": {},
   "outputs": [],
   "source": [
    "from pyspark.sql import SparkSession\n",
    "from pyspark.sql import functions as F"
   ]
  },
  {
   "cell_type": "code",
   "execution_count": 2,
   "id": "1e1909f1-a5fa-4393-8213-a0c8bca6525d",
   "metadata": {},
   "outputs": [
    {
     "name": "stdout",
     "output_type": "stream",
     "text": [
      ":: loading settings :: url = jar:file:/usr/local/lib/python3.11/site-packages/pyspark/jars/ivy-2.5.1.jar!/org/apache/ivy/core/settings/ivysettings.xml\n"
     ]
    },
    {
     "name": "stderr",
     "output_type": "stream",
     "text": [
      "Ivy Default Cache set to: /root/.ivy2/cache\n",
      "The jars for the packages stored in: /root/.ivy2/jars\n",
      "org.apache.hadoop#hadoop-aws added as a dependency\n",
      "com.amazonaws#aws-java-sdk-pom added as a dependency\n",
      "org.apache.spark#spark-sql-kafka-0-10_2.12 added as a dependency\n",
      ":: resolving dependencies :: org.apache.spark#spark-submit-parent-c7104ac1-deef-46b6-9b58-a506b972e7f7;1.0\n",
      "\tconfs: [default]\n",
      "\tfound org.apache.hadoop#hadoop-aws;3.3.2 in central\n",
      "\tfound com.amazonaws#aws-java-sdk-bundle;1.11.1026 in central\n",
      "\tfound org.wildfly.openssl#wildfly-openssl;1.0.7.Final in central\n",
      "\tfound com.amazonaws#aws-java-sdk-pom;1.12.365 in central\n",
      "\tfound org.apache.spark#spark-sql-kafka-0-10_2.12;3.5.1 in central\n",
      "\tfound org.apache.spark#spark-token-provider-kafka-0-10_2.12;3.5.1 in central\n",
      "\tfound org.apache.kafka#kafka-clients;3.4.1 in central\n",
      "\tfound org.lz4#lz4-java;1.8.0 in central\n",
      "\tfound org.xerial.snappy#snappy-java;1.1.10.3 in central\n",
      "\tfound org.slf4j#slf4j-api;2.0.7 in central\n",
      "\tfound org.apache.hadoop#hadoop-client-runtime;3.3.4 in central\n",
      "\tfound org.apache.hadoop#hadoop-client-api;3.3.4 in central\n",
      "\tfound commons-logging#commons-logging;1.1.3 in central\n",
      "\tfound com.google.code.findbugs#jsr305;3.0.0 in central\n",
      "\tfound org.apache.commons#commons-pool2;2.11.1 in central\n",
      ":: resolution report :: resolve 273ms :: artifacts dl 8ms\n",
      "\t:: modules in use:\n",
      "\tcom.amazonaws#aws-java-sdk-bundle;1.11.1026 from central in [default]\n",
      "\tcom.amazonaws#aws-java-sdk-pom;1.12.365 from central in [default]\n",
      "\tcom.google.code.findbugs#jsr305;3.0.0 from central in [default]\n",
      "\tcommons-logging#commons-logging;1.1.3 from central in [default]\n",
      "\torg.apache.commons#commons-pool2;2.11.1 from central in [default]\n",
      "\torg.apache.hadoop#hadoop-aws;3.3.2 from central in [default]\n",
      "\torg.apache.hadoop#hadoop-client-api;3.3.4 from central in [default]\n",
      "\torg.apache.hadoop#hadoop-client-runtime;3.3.4 from central in [default]\n",
      "\torg.apache.kafka#kafka-clients;3.4.1 from central in [default]\n",
      "\torg.apache.spark#spark-sql-kafka-0-10_2.12;3.5.1 from central in [default]\n",
      "\torg.apache.spark#spark-token-provider-kafka-0-10_2.12;3.5.1 from central in [default]\n",
      "\torg.lz4#lz4-java;1.8.0 from central in [default]\n",
      "\torg.slf4j#slf4j-api;2.0.7 from central in [default]\n",
      "\torg.wildfly.openssl#wildfly-openssl;1.0.7.Final from central in [default]\n",
      "\torg.xerial.snappy#snappy-java;1.1.10.3 from central in [default]\n",
      "\t---------------------------------------------------------------------\n",
      "\t|                  |            modules            ||   artifacts   |\n",
      "\t|       conf       | number| search|dwnlded|evicted|| number|dwnlded|\n",
      "\t---------------------------------------------------------------------\n",
      "\t|      default     |   15  |   0   |   0   |   0   ||   14  |   0   |\n",
      "\t---------------------------------------------------------------------\n",
      ":: retrieving :: org.apache.spark#spark-submit-parent-c7104ac1-deef-46b6-9b58-a506b972e7f7\n",
      "\tconfs: [default]\n",
      "\t0 artifacts copied, 14 already retrieved (0kB/6ms)\n",
      "24/07/07 21:12:49 WARN NativeCodeLoader: Unable to load native-hadoop library for your platform... using builtin-java classes where applicable\n",
      "Setting default log level to \"WARN\".\n",
      "To adjust logging level use sc.setLogLevel(newLevel). For SparkR, use setLogLevel(newLevel).\n"
     ]
    }
   ],
   "source": [
    "ACCESS_KEY = \"admin\"\n",
    "SECRET_KEY = \"minio-admin\"\n",
    "MINIO_URL = \"http://minio:9000\"\n",
    "\n",
    "spark = SparkSession.builder \\\n",
    "    .master(\"spark://spark-master:7077\") \\\n",
    "    .appName(\"HW2\") \\\n",
    "    .config(\"spark.sql.adaptive.enabled\", False) \\\n",
    "    .config(\"spark.sql.autoBroadcastJoinThreshold\", -1) \\\n",
    "    .config(\"spark.sql.sources.bucketing.enabled\", True) \\\n",
    "    .config(\"spark.executor.memory\", \"450M\") \\\n",
    "    .config(\"spark.driver.memory\", \"450M\") \\\n",
    "    .config('spark.jars.packages', \n",
    "        \"org.apache.hadoop:hadoop-aws:3.3.2,com.amazonaws:aws-java-sdk-pom:1.12.365,org.apache.spark:spark-sql-kafka-0-10_2.12:3.5.1\"\n",
    "    ) \\\n",
    "    .config(\"spark.hadoop.fs.s3a.impl\", \"org.apache.hadoop.fs.s3a.S3AFileSystem\") \\\n",
    "    .config('spark.hadoop.fs.s3a.aws.credentials.provider', 'org.apache.hadoop.fs.s3a.SimpleAWSCredentialsProvider') \\\n",
    "    .config(\"spark.hadoop.fs.s3a.path.style.access\", \"true\") \\\n",
    "    .config(\"spark.hadoop.fs.s3a.access.key\", ACCESS_KEY) \\\n",
    "    .config(\"spark.hadoop.fs.s3a.secret.key\", SECRET_KEY) \\\n",
    "    .config(\"spark.hadoop.fs.s3a.endpoint\", MINIO_URL) \\\n",
    "    .getOrCreate()"
   ]
  },
  {
   "cell_type": "code",
   "execution_count": null,
   "id": "fb74cf6d",
   "metadata": {},
   "outputs": [],
   "source": []
  },
  {
   "cell_type": "markdown",
   "id": "02f9ece4-83c7-486a-84b6-192fca40d533",
   "metadata": {},
   "source": [
    "# Задание 1\n",
    "\n",
    "## Входные данные \n",
    "- Файл с данными по оттоку телеком оператора в США (churn.csv)\n",
    "- Справочник с названиями штатов (state.json)\n",
    "- Справочник с численностью населения территорий (определяется полем area code) внутри штатов (state.json)\n",
    "- Террия с численностью населения меньше 10_000 считается **мелкой**\n",
    "\n",
    "## Что нужно сделать\n",
    "1. Посчитать количество отточных и неотточных абонентов (поле churn), исключив **мелкие** территории\n",
    "2. Отчет должен быть выполнен в разрезе **каждого штата** с его полным наименованием\n",
    "3. Описать возникающие узкие места при выполнении данной операции\n",
    "4. Применить один из способов оптимизации для ускорения выполнения запроса (при допущении, что справочник численности населения **сильно меньше** основных данных)\n",
    "5. Если существует еще какой-то способ, применить также и его отдельно от п.4 (при допущении, что справочник численности населения **сопоставим по размеру** с основными данными)\n",
    "6. Кратко описать реализованные способы и в чем их практическая польза\n",
    "\n",
    "- P.S. Одним из выбранных способов должен быть Bucket specific join\n",
    "- P.P.S. При обосновании предлагаем прикладывать запуска команды df.explain()"
   ]
  },
  {
   "cell_type": "code",
   "execution_count": null,
   "id": "51fd39bc-4dbf-4deb-bab3-2a3ef7ee67ee",
   "metadata": {},
   "outputs": [],
   "source": []
  },
  {
   "cell_type": "code",
   "execution_count": 3,
   "id": "9b58da6b-e2ff-4cd6-9995-c4d35e5c2745",
   "metadata": {},
   "outputs": [
    {
     "name": "stderr",
     "output_type": "stream",
     "text": [
      "24/07/07 21:12:56 WARN MetricsConfig: Cannot locate configuration: tried hadoop-metrics2-s3a-file-system.properties,hadoop-metrics2.properties\n",
      "                                                                                \r"
     ]
    }
   ],
   "source": [
    "churn_df = spark.read.option(\"header\", True).csv(\"s3a://input/data/churn.csv\")\n",
    "state_dict = spark.read.json(\"s3a://input/data/state.json\")\n",
    "pop_dict = spark.read.json(\"s3a://input/data/population.json\")"
   ]
  },
  {
   "cell_type": "markdown",
   "id": "f18763c6",
   "metadata": {},
   "source": [
    "### Решение"
   ]
  },
  {
   "cell_type": "code",
   "execution_count": 4,
   "id": "d7bd521c",
   "metadata": {},
   "outputs": [],
   "source": [
    "# Ваше решение в ячейках ниже ..."
   ]
  },
  {
   "cell_type": "code",
   "execution_count": 5,
   "id": "ecaee4ae",
   "metadata": {},
   "outputs": [],
   "source": [
    "# Подготовка справочника населения \n",
    "pop_dict = pop_dict.withColumn(\"population\", F.col(\"population\").cast(\"int\"))\n",
    "pop_dict = pop_dict.filter(F.col(\"population\") >= 10000)"
   ]
  },
  {
   "cell_type": "code",
   "execution_count": 6,
   "id": "b96379ac-37b1-468f-8313-f28079e3c5e8",
   "metadata": {},
   "outputs": [],
   "source": [
    "# Объединение данных и фильтрация мелких территорий\n",
    "df = churn_df.join(pop_dict, churn_df[\"area code\"] == pop_dict[\"area code\"])\n",
    "df = df.join(state_dict, df[\"state\"] == state_dict[\"state_id\"])"
   ]
  },
  {
   "cell_type": "code",
   "execution_count": 7,
   "id": "8b632f35-732c-48b9-9d45-70d830a80b09",
   "metadata": {},
   "outputs": [],
   "source": [
    "# Подсчет отточных и неотточных абонентов по штатам\n",
    "result = df.groupBy(\"state\", \"state_name\") \\\n",
    "    .agg(\n",
    "        F.sum(F.when(F.col(\"churn\") == True, 1).otherwise(0)).alias(\"churned\"),\n",
    "        F.sum(F.when(F.col(\"churn\") == False, 1).otherwise(0)).alias(\"not_churned\"),\n",
    "        F.count(\"*\").alias(\"total_count\")\n",
    "    )"
   ]
  },
  {
   "cell_type": "code",
   "execution_count": 8,
   "id": "a14b64c8",
   "metadata": {},
   "outputs": [
    {
     "name": "stdout",
     "output_type": "stream",
     "text": [
      "== Physical Plan ==\n",
      "*(9) HashAggregate(keys=[state#18, state_name#72], functions=[sum(CASE WHEN cast(churn#38 as boolean) THEN 1 ELSE 0 END), sum(CASE WHEN NOT cast(churn#38 as boolean) THEN 1 ELSE 0 END), count(1)])\n",
      "+- *(9) HashAggregate(keys=[state#18, state_name#72], functions=[partial_sum(CASE WHEN cast(churn#38 as boolean) THEN 1 ELSE 0 END), partial_sum(CASE WHEN NOT cast(churn#38 as boolean) THEN 1 ELSE 0 END), partial_count(1)])\n",
      "   +- *(9) Project [state#18, churn#38, state_name#72]\n",
      "      +- *(9) SortMergeJoin [state#18], [state_id#71], Inner\n",
      "         :- *(6) Sort [state#18 ASC NULLS FIRST], false, 0\n",
      "         :  +- Exchange hashpartitioning(state#18, 200), ENSURE_REQUIREMENTS, [plan_id=114]\n",
      "         :     +- *(5) Project [state#18, churn#38]\n",
      "         :        +- *(5) SortMergeJoin [cast(area code#20 as bigint)], [area code#83L], Inner\n",
      "         :           :- *(2) Sort [cast(area code#20 as bigint) ASC NULLS FIRST], false, 0\n",
      "         :           :  +- Exchange hashpartitioning(cast(area code#20 as bigint), 200), ENSURE_REQUIREMENTS, [plan_id=97]\n",
      "         :           :     +- *(1) Filter (isnotnull(area code#20) AND isnotnull(state#18))\n",
      "         :           :        +- FileScan csv [state#18,area code#20,churn#38] Batched: false, DataFilters: [isnotnull(area code#20), isnotnull(state#18)], Format: CSV, Location: InMemoryFileIndex(1 paths)[s3a://input/data/churn.csv], PartitionFilters: [], PushedFilters: [IsNotNull(area code), IsNotNull(state)], ReadSchema: struct<state:string,area code:string,churn:string>\n",
      "         :           +- *(4) Sort [area code#83L ASC NULLS FIRST], false, 0\n",
      "         :              +- Exchange hashpartitioning(area code#83L, 200), ENSURE_REQUIREMENTS, [plan_id=106]\n",
      "         :                 +- *(3) Project [area code#83L]\n",
      "         :                    +- *(3) Filter ((isnotnull(population#84L) AND (cast(population#84L as int) >= 10000)) AND isnotnull(area code#83L))\n",
      "         :                       +- FileScan json [area code#83L,population#84L] Batched: false, DataFilters: [isnotnull(population#84L), (cast(population#84L as int) >= 10000), isnotnull(area code#83L)], Format: JSON, Location: InMemoryFileIndex(1 paths)[s3a://input/data/population.json], PartitionFilters: [], PushedFilters: [IsNotNull(population), IsNotNull(area code)], ReadSchema: struct<area code:bigint,population:bigint>\n",
      "         +- *(8) Sort [state_id#71 ASC NULLS FIRST], false, 0\n",
      "            +- Exchange hashpartitioning(state_id#71, 200), ENSURE_REQUIREMENTS, [plan_id=122]\n",
      "               +- *(7) Filter isnotnull(state_id#71)\n",
      "                  +- FileScan json [state_id#71,state_name#72] Batched: false, DataFilters: [isnotnull(state_id#71)], Format: JSON, Location: InMemoryFileIndex(1 paths)[s3a://input/data/state.json], PartitionFilters: [], PushedFilters: [IsNotNull(state_id)], ReadSchema: struct<state_id:string,state_name:string>\n",
      "\n",
      "\n"
     ]
    },
    {
     "name": "stderr",
     "output_type": "stream",
     "text": [
      "                                                                                \r"
     ]
    },
    {
     "name": "stdout",
     "output_type": "stream",
     "text": [
      "+-----+--------------------+-------+-----------+-----------+\n",
      "|state|state_name          |churned|not_churned|total_count|\n",
      "+-----+--------------------+-------+-----------+-----------+\n",
      "|AZ   |Arizona             |4      |53         |57         |\n",
      "|SC   |South Carolina      |14     |46         |60         |\n",
      "|LA   |Louisiana           |4      |47         |51         |\n",
      "|MN   |Minnesota           |15     |69         |84         |\n",
      "|NJ   |New Jersey          |18     |50         |68         |\n",
      "|DC   |District of Columbia|4      |43         |47         |\n",
      "|OR   |Oregon              |11     |67         |78         |\n",
      "|VA   |Virginia            |5      |72         |77         |\n",
      "|RI   |Rhode Island        |6      |59         |65         |\n",
      "|KY   |Kentucky            |8      |51         |59         |\n",
      "|WY   |Wyoming             |9      |68         |77         |\n",
      "|NH   |New Hampshire       |9      |47         |56         |\n",
      "|MI   |Michigan            |16     |57         |73         |\n",
      "|NV   |Nevada              |14     |52         |66         |\n",
      "|WI   |Wisconsin           |7      |71         |78         |\n",
      "|ID   |Idaho               |9      |53         |62         |\n",
      "|CA   |California          |8      |21         |29         |\n",
      "|CT   |Connecticut         |8      |56         |64         |\n",
      "|NE   |Nebraska            |5      |56         |61         |\n",
      "|MT   |Montana             |14     |54         |68         |\n",
      "+-----+--------------------+-------+-----------+-----------+\n",
      "only showing top 20 rows\n",
      "\n"
     ]
    }
   ],
   "source": [
    "# Здесь необходимо вывести результат:\n",
    "result.explain()\n",
    "result.show(truncate=False)"
   ]
  },
  {
   "cell_type": "markdown",
   "id": "408aa92b-7f2b-4eb0-b783-5732870b66bc",
   "metadata": {},
   "source": [
    "Анализ оттока: в большинстве штатов количество неотточных абонентов значительно превышает количество отточных, что является хорошим показателем для телеком-оператора. Например, в Аризоне (AZ) всего 4 отточных абонента против 53 неотточных.\n",
    "\n",
    "Штаты с наибольшим оттоком (из показанных 20): Нью-Джерси (NJ), Мичиган (MI), Миннесота (MN). Штаты с наименьшим оттоком: Аризона (AZ), Луизиана (LA), округ Колумбия (DC).\n",
    "\n",
    "Процент оттока: в Нью-Джерси (NJ) процент оттока составляет около 26.5%, в Миннесоте (MN) - около 17.9%, в Аризоне (AZ) - всего 7%.\n",
    "\n",
    "Размер клиентской базы: штаты с наибольшим количеством абонентов - Миннесота (MN), Висконсин (WI) и Орегон (OR). Штаты с наименьшим количеством абонентов: Калифорния (CA), округ Колумбия (DC).\n",
    "\n",
    "Калифорния имеет неожиданно малое количество абонентов (29), что может указывать на неполноту данных или на то, что компания не очень активна в этом штате. Некоторые менее населенные штаты, такие как Вайоминг (WY), имеют относительно большое количество абонентов (77), что может говорить о хорошем проникновении услуг в этих регионах."
   ]
  },
  {
   "cell_type": "markdown",
   "id": "ca8c1233-a810-455b-a2c8-bedaff82ea37",
   "metadata": {},
   "source": [
    "Узкие места при выполнении данной операции:\n",
    "1. Join: соединение больших таблиц (churn_df и pop_dict) может быть ресурсоемким, особенно если данные не распределены равномерно по кластеру.\n",
    "2. Группировка: операция groupBy может вызывать значительное перемещение данных между узлами кластера (shuffle).\n",
    "3. Фильтрация после join: фильтрация pop_dict после соединения может быть неэффективной, если большое количество данных отбрасывается."
   ]
  },
  {
   "cell_type": "markdown",
   "id": "d58ca16c",
   "metadata": {},
   "source": [
    "### Оптимизация 1"
   ]
  },
  {
   "cell_type": "code",
   "execution_count": 9,
   "id": "4663dabd",
   "metadata": {},
   "outputs": [],
   "source": [
    "# Ваше решение в ячейках ниже ..."
   ]
  },
  {
   "cell_type": "code",
   "execution_count": 10,
   "id": "b8db731b",
   "metadata": {},
   "outputs": [],
   "source": [
    "# Применяем broadcast к маленьким таблицам\n",
    "pop_dict_filtered = pop_dict.filter(F.col(\"population\") >= 10000)\n",
    "broadcast_pop_dict = F.broadcast(pop_dict_filtered)\n",
    "broadcast_state_dict = F.broadcast(state_dict)\n",
    "\n",
    "# Оптимизированный запрос \n",
    "optimized_result = churn_df.join(broadcast_pop_dict, churn_df[\"area code\"] == broadcast_pop_dict[\"area code\"]) \\\n",
    "    .join(broadcast_state_dict, churn_df[\"state\"] == broadcast_state_dict[\"state_id\"]) \\\n",
    "    .groupBy(\"state\", \"state_name\") \\\n",
    "    .agg(\n",
    "        F.sum(F.when(F.col(\"churn\") == True, 1).otherwise(0)).alias(\"churned\"),\n",
    "        F.sum(F.when(F.col(\"churn\") == False, 1).otherwise(0)).alias(\"not_churned\"),\n",
    "        F.count(\"*\").alias(\"total_count\")\n",
    "    )\n"
   ]
  },
  {
   "cell_type": "code",
   "execution_count": 11,
   "id": "cea922ac",
   "metadata": {},
   "outputs": [
    {
     "name": "stdout",
     "output_type": "stream",
     "text": [
      "== Physical Plan ==\n",
      "*(4) HashAggregate(keys=[state#18, state_name#72], functions=[sum(CASE WHEN cast(churn#38 as boolean) THEN 1 ELSE 0 END), sum(CASE WHEN NOT cast(churn#38 as boolean) THEN 1 ELSE 0 END), count(1)])\n",
      "+- Exchange hashpartitioning(state#18, state_name#72, 200), ENSURE_REQUIREMENTS, [plan_id=407]\n",
      "   +- *(3) HashAggregate(keys=[state#18, state_name#72], functions=[partial_sum(CASE WHEN cast(churn#38 as boolean) THEN 1 ELSE 0 END), partial_sum(CASE WHEN NOT cast(churn#38 as boolean) THEN 1 ELSE 0 END), partial_count(1)])\n",
      "      +- *(3) Project [state#18, churn#38, state_name#72]\n",
      "         +- *(3) BroadcastHashJoin [state#18], [state_id#71], Inner, BuildRight, false\n",
      "            :- *(3) Project [state#18, churn#38]\n",
      "            :  +- *(3) BroadcastHashJoin [cast(area code#20 as bigint)], [area code#83L], Inner, BuildRight, false\n",
      "            :     :- *(3) Filter (isnotnull(area code#20) AND isnotnull(state#18))\n",
      "            :     :  +- FileScan csv [state#18,area code#20,churn#38] Batched: false, DataFilters: [isnotnull(area code#20), isnotnull(state#18)], Format: CSV, Location: InMemoryFileIndex(1 paths)[s3a://input/data/churn.csv], PartitionFilters: [], PushedFilters: [IsNotNull(area code), IsNotNull(state)], ReadSchema: struct<state:string,area code:string,churn:string>\n",
      "            :     +- BroadcastExchange HashedRelationBroadcastMode(List(input[0, bigint, true]),false), [plan_id=394]\n",
      "            :        +- *(1) Project [area code#83L]\n",
      "            :           +- *(1) Filter ((isnotnull(population#84L) AND (cast(population#84L as int) >= 10000)) AND isnotnull(area code#83L))\n",
      "            :              +- FileScan json [area code#83L,population#84L] Batched: false, DataFilters: [isnotnull(population#84L), (cast(population#84L as int) >= 10000), isnotnull(area code#83L)], Format: JSON, Location: InMemoryFileIndex(1 paths)[s3a://input/data/population.json], PartitionFilters: [], PushedFilters: [IsNotNull(population), IsNotNull(area code)], ReadSchema: struct<area code:bigint,population:bigint>\n",
      "            +- BroadcastExchange HashedRelationBroadcastMode(List(input[0, string, false]),false), [plan_id=401]\n",
      "               +- *(2) Filter isnotnull(state_id#71)\n",
      "                  +- FileScan json [state_id#71,state_name#72] Batched: false, DataFilters: [isnotnull(state_id#71)], Format: JSON, Location: InMemoryFileIndex(1 paths)[s3a://input/data/state.json], PartitionFilters: [], PushedFilters: [IsNotNull(state_id)], ReadSchema: struct<state_id:string,state_name:string>\n",
      "\n",
      "\n",
      "+-----+--------------------+-------+-----------+-----------+\n",
      "|state|state_name          |churned|not_churned|total_count|\n",
      "+-----+--------------------+-------+-----------+-----------+\n",
      "|MT   |Montana             |14     |54         |68         |\n",
      "|NC   |North Carolina      |11     |57         |68         |\n",
      "|MD   |Maryland            |17     |53         |70         |\n",
      "|CO   |Colorado            |7      |49         |56         |\n",
      "|CT   |Connecticut         |8      |56         |64         |\n",
      "|IL   |Illinois            |5      |49         |54         |\n",
      "|WY   |Wyoming             |9      |68         |77         |\n",
      "|NJ   |New Jersey          |18     |50         |68         |\n",
      "|DE   |Delaware            |8      |48         |56         |\n",
      "|DC   |District of Columbia|4      |43         |47         |\n",
      "|AR   |Arkansas            |9      |35         |44         |\n",
      "|LA   |Louisiana           |4      |47         |51         |\n",
      "|TN   |Tennessee           |5      |48         |53         |\n",
      "|AK   |Alaska              |3      |44         |47         |\n",
      "|CA   |California          |8      |21         |29         |\n",
      "|NM   |New Mexico          |6      |56         |62         |\n",
      "|UT   |Utah                |10     |62         |72         |\n",
      "|MI   |Michigan            |16     |57         |73         |\n",
      "|NY   |New York            |15     |68         |83         |\n",
      "|NH   |New Hampshire       |9      |47         |56         |\n",
      "+-----+--------------------+-------+-----------+-----------+\n",
      "only showing top 20 rows\n",
      "\n"
     ]
    }
   ],
   "source": [
    "# Здесь необходимо вывести результат:\n",
    "optimized_result.explain()\n",
    "optimized_result.show(truncate=False)"
   ]
  },
  {
   "cell_type": "code",
   "execution_count": 12,
   "id": "3b42f81a-919f-4a5f-8ab8-2f0b8106652f",
   "metadata": {},
   "outputs": [
    {
     "name": "stdout",
     "output_type": "stream",
     "text": [
      "\n",
      "Время выполнения оптимизированного запроса: 0.81 секунд\n"
     ]
    },
    {
     "name": "stderr",
     "output_type": "stream",
     "text": [
      "[Stage 42:=========================================>            (153 + 3) / 200]\r"
     ]
    },
    {
     "name": "stdout",
     "output_type": "stream",
     "text": [
      "Время выполнения неоптимизированного запроса: 1.74 секунд\n",
      "Ускорение: 2.15x\n"
     ]
    },
    {
     "name": "stderr",
     "output_type": "stream",
     "text": [
      "                                                                                \r"
     ]
    }
   ],
   "source": [
    "# Сравнение производительности\n",
    "import time\n",
    "\n",
    "start_time = time.time()\n",
    "optimized_result.count()  # Выполняем действие, чтобы запустить вычисления\n",
    "optimized_time = time.time() - start_time\n",
    "\n",
    "print(f\"\\nВремя выполнения оптимизированного запроса: {optimized_time:.2f} секунд\")\n",
    "\n",
    "# Выполняем неоптимизированный запрос для сравнения\n",
    "start_time = time.time()\n",
    "unoptimized_result = churn_df.join(pop_dict.filter(F.col(\"population\") >= 10000), churn_df[\"area code\"] == pop_dict[\"area code\"]) \\\n",
    "    .join(state_dict, churn_df[\"state\"] == state_dict[\"state_id\"]) \\\n",
    "    .groupBy(\"state\", \"state_name\") \\\n",
    "    .agg(\n",
    "        F.sum(F.when(F.col(\"churn\") == True, 1).otherwise(0)).alias(\"churned\"),\n",
    "        F.sum(F.when(F.col(\"churn\") == False, 1).otherwise(0)).alias(\"not_churned\"),\n",
    "        F.count(\"*\").alias(\"total_count\")\n",
    "    )\n",
    "unoptimized_result.count()  # Выполняем действие, чтобы запустить вычисления\n",
    "unoptimized_time = time.time() - start_time\n",
    "\n",
    "print(f\"Время выполнения неоптимизированного запроса: {unoptimized_time:.2f} секунд\")\n",
    "print(f\"Ускорение: {unoptimized_time / optimized_time:.2f}x\")"
   ]
  },
  {
   "cell_type": "markdown",
   "id": "e90afc7c-ea68-4e9f-9279-2c541e0d5b95",
   "metadata": {},
   "source": [
    "Применение broadcast join привело к значительному улучшению производительности. Запрос стал выполняться более чем в 2 раза быстрее, что является существенным улучшением. При увеличении объема данных следует провести повторное тестирование, чтобы убедиться, что broadcast join остается эффективным методом. Для очень больших наборов данных может потребоваться рассмотреть другие методы оптимизации, такие как bucketing или партиционирование."
   ]
  },
  {
   "cell_type": "markdown",
   "id": "1ac80fd0",
   "metadata": {},
   "source": [
    "### Оптимизация 2"
   ]
  },
  {
   "cell_type": "code",
   "execution_count": 13,
   "id": "36c18f89",
   "metadata": {},
   "outputs": [],
   "source": [
    "# Ваше решение в ячейках ниже ..."
   ]
  },
  {
   "cell_type": "code",
   "execution_count": 14,
   "id": "92a71375",
   "metadata": {},
   "outputs": [
    {
     "name": "stderr",
     "output_type": "stream",
     "text": [
      "                                                                                \r"
     ]
    }
   ],
   "source": [
    "# Функция для подготовки DataFrame к bucket-like join\n",
    "def prepare_for_bucket_join(df, partition_col, num_partitions):\n",
    "    return df.repartitionByRange(num_partitions, partition_col) \\\n",
    "             .sortWithinPartitions(partition_col)\n",
    "\n",
    "# Подготовка DataFrame'ов\n",
    "num_partitions = 10\n",
    "churn_prepared = prepare_for_bucket_join(churn_df, \"area code\", num_partitions)\n",
    "pop_prepared = prepare_for_bucket_join(pop_dict.filter(F.col(\"population\") >= 10000), \"area code\", num_partitions)\n",
    "state_prepared = prepare_for_bucket_join(state_dict, \"state_id\", num_partitions)\n",
    "\n",
    "# Выполнение запроса с оптимизацией, похожей на Bucket Join\n",
    "start_time = time.time()\n",
    "\n",
    "bucket_like_result = churn_prepared.join(pop_prepared, \"area code\") \\\n",
    "    .join(state_prepared, churn_prepared[\"state\"] == state_prepared[\"state_id\"]) \\\n",
    "    .groupBy(\"state\", \"state_name\") \\\n",
    "    .agg(\n",
    "        F.sum(F.when(F.col(\"churn\") == True, 1).otherwise(0)).alias(\"churned\"),\n",
    "        F.sum(F.when(F.col(\"churn\") == False, 1).otherwise(0)).alias(\"not_churned\"),\n",
    "        F.count(\"*\").alias(\"total_count\")\n",
    "    )\n",
    "\n",
    "# Выполняем действие, чтобы запустить вычисления\n",
    "bucket_like_result.count()\n",
    "bucket_time = time.time() - start_time\n"
   ]
  },
  {
   "cell_type": "code",
   "execution_count": 15,
   "id": "8d446130",
   "metadata": {},
   "outputs": [
    {
     "name": "stderr",
     "output_type": "stream",
     "text": [
      "                                                                                \r"
     ]
    },
    {
     "name": "stdout",
     "output_type": "stream",
     "text": [
      "+-----+--------------------+-------+-----------+-----------+\n",
      "|state|state_name          |churned|not_churned|total_count|\n",
      "+-----+--------------------+-------+-----------+-----------+\n",
      "|AZ   |Arizona             |4      |53         |57         |\n",
      "|SC   |South Carolina      |14     |46         |60         |\n",
      "|LA   |Louisiana           |4      |47         |51         |\n",
      "|MN   |Minnesota           |15     |69         |84         |\n",
      "|NJ   |New Jersey          |18     |50         |68         |\n",
      "|DC   |District of Columbia|4      |43         |47         |\n",
      "|OR   |Oregon              |11     |67         |78         |\n",
      "|VA   |Virginia            |5      |72         |77         |\n",
      "|RI   |Rhode Island        |6      |59         |65         |\n",
      "|KY   |Kentucky            |8      |51         |59         |\n",
      "|WY   |Wyoming             |9      |68         |77         |\n",
      "|NH   |New Hampshire       |9      |47         |56         |\n",
      "|MI   |Michigan            |16     |57         |73         |\n",
      "|NV   |Nevada              |14     |52         |66         |\n",
      "|WI   |Wisconsin           |7      |71         |78         |\n",
      "|ID   |Idaho               |9      |53         |62         |\n",
      "|CA   |California          |8      |21         |29         |\n",
      "|CT   |Connecticut         |8      |56         |64         |\n",
      "|NE   |Nebraska            |5      |56         |61         |\n",
      "|MT   |Montana             |14     |54         |68         |\n",
      "+-----+--------------------+-------+-----------+-----------+\n",
      "only showing top 20 rows\n",
      "\n"
     ]
    }
   ],
   "source": [
    "# Здесь необходимо вывести результат:\n",
    "bucket_like_result.show(truncate=False)"
   ]
  },
  {
   "cell_type": "code",
   "execution_count": 16,
   "id": "42dc61ce",
   "metadata": {},
   "outputs": [
    {
     "name": "stdout",
     "output_type": "stream",
     "text": [
      "Время выполнения неоптимизированного запроса: 1.26 секунд\n",
      "Ускорение: 0.74x\n"
     ]
    },
    {
     "name": "stderr",
     "output_type": "stream",
     "text": [
      "                                                                                \r"
     ]
    }
   ],
   "source": [
    "# Сравнение с неоптимизированным запросом\n",
    "start_time = time.time()\n",
    "unoptimized_result = churn_df.join(pop_dict.filter(F.col(\"population\") >= 10000), \"area code\") \\\n",
    "    .join(state_dict, churn_df[\"state\"] == state_dict[\"state_id\"]) \\\n",
    "    .groupBy(\"state\", \"state_name\") \\\n",
    "    .agg(\n",
    "        F.sum(F.when(F.col(\"churn\") == True, 1).otherwise(0)).alias(\"churned\"),\n",
    "        F.sum(F.when(F.col(\"churn\") == False, 1).otherwise(0)).alias(\"not_churned\"),\n",
    "        F.count(\"*\").alias(\"total_count\")\n",
    "    )\n",
    "unoptimized_result.count()\n",
    "unoptimized_time = time.time() - start_time\n",
    "\n",
    "print(f\"Время выполнения неоптимизированного запроса: {unoptimized_time:.2f} секунд\")\n",
    "print(f\"Ускорение: {unoptimized_time / bucket_time:.2f}x\")"
   ]
  },
  {
   "cell_type": "markdown",
   "id": "a11efd11-584e-4276-8ee8-6a4c72a74002",
   "metadata": {},
   "source": [
    "Оптимизированный запрос (с имитацией Bucket) выполнялся дольше, чем неоптимизированный. Фактическое время выполнения оптимизированного запроса составило примерно 1.15 / 0.05 = 23 секунды. Запустить bucketed таблицы не получилось, поэтому скорее всего такой результат из-за такой реализации."
   ]
  },
  {
   "cell_type": "markdown",
   "id": "40f06364",
   "metadata": {},
   "source": [
    "# Задание 2\n",
    "\n",
    "## Входные данные \n",
    "\n",
    "*skew_transactions.csv* - информация о длительности просомтра контента пользователям\n",
    "колонки:\n",
    "1. user_uid — уникальный идентификатор пользователя\n",
    "2. element_uid — уникальный идентификатор контента\n",
    "3. watched_time — время просмотра в секундах\n",
    "\n",
    "*catalogue.json* - каталог с описанием контента и метаинформации по нему\n",
    "колонки:\n",
    "1. type — тип элемента\n",
    "2. duration — длительность в минутах (средняя длительность эпизода в случае с сериалами и многосерийными фильмами), округлённая до десятков\n",
    "3. attributes — анонимизированные атрибуты данного элемента\n",
    "4. availability — доступные права на элемент(subscription, purchase, rent)\n",
    "5. feature_1 — анонимизированная вещественная переменная\n",
    "6. feature_2 — анонимизированная вещественная переменная\n",
    "7. feature_3 — анонимизированная порядковая переменная\n",
    "8. feature_4 — анонимизированная вещественная переменная\n",
    "9. feature_5 — анонимизированная вещественная переменная\n",
    "\n",
    "## Что нужно сделать\n",
    "1. Выполните join основных данных со справочником используя DataFrame API (по колонке id для контента - `element_uid`)\n",
    "2. Описать проблему в датасетах с точки зрения обработки Spark\n",
    "3. Решить задачу любым способом\n",
    "4. Решить задачу с помощью salt-join подхода\n",
    "\n",
    "P.S. Как вы можете заметить при просмотре данных по пользователями, нужный нам ключ для операции будет перекошен (90% строк представлены на фильм, очень популярный среди смотревших) - это нужно доказать в рамках п.2"
   ]
  },
  {
   "cell_type": "markdown",
   "id": "0740055d",
   "metadata": {},
   "source": [
    "### Решение "
   ]
  },
  {
   "cell_type": "code",
   "execution_count": 17,
   "id": "5e2e8c69",
   "metadata": {},
   "outputs": [],
   "source": [
    "# Ваше решение в ячейках ниже ..."
   ]
  },
  {
   "cell_type": "code",
   "execution_count": 20,
   "id": "1024de58-a375-4043-9ea8-2a33e889ed26",
   "metadata": {},
   "outputs": [],
   "source": [
    "import pandas as pd\n",
    "from pyspark.sql.types import StructType, StructField, StringType, IntegerType, FloatType, ArrayType\n",
    "import random\n",
    "from pyspark.sql.functions import col, count, rand, explode\n",
    "import io\n",
    "import json\n",
    "\n",
    "# Функция для чтения данных с использованием pandas\n",
    "def read_s3_pandas(path, file_type):\n",
    "    file_content = spark.sparkContext.binaryFiles(path).first()[1]\n",
    "    file_content_str = io.BytesIO(file_content)\n",
    "    if file_type == 'csv':\n",
    "        return pd.read_csv(file_content_str)\n",
    "    elif file_type == 'json':\n",
    "        # Читаем JSON как словарь\n",
    "        json_dict = json.load(file_content_str)\n",
    "        # Преобразуем словарь в DataFrame\n",
    "        df = pd.DataFrame.from_dict(json_dict, orient='index')\n",
    "        df.reset_index(inplace=True)\n",
    "        df.rename(columns={'index': 'element_uid'}, inplace=True)\n",
    "        return df\n",
    "\n",
    "# Читаем данные\n",
    "transactions_df = read_s3_pandas(\"s3a://input/data/skew_transactions.csv\", 'csv')\n",
    "catalogue_df = read_s3_pandas(\"s3a://input/data/catalogue.json\", 'json')\n",
    "\n",
    "# Разворачиваем вложенные структуры в catalogue_df\n",
    "for col in catalogue_df.columns:\n",
    "    if isinstance(catalogue_df[col].iloc[0], (list, dict)):\n",
    "        catalogue_df = pd.concat([catalogue_df.drop([col], axis=1), \n",
    "                                  catalogue_df[col].apply(pd.Series).add_prefix(f\"{col}_\")], axis=1)\n",
    "\n",
    "# Создаем Spark DataFrames\n",
    "transactions_spark = spark.createDataFrame(transactions_df)\n",
    "catalogue_spark = spark.createDataFrame(catalogue_df)\n",
    "\n",
    "# Выполняем join\n",
    "result = transactions_spark.join(catalogue_spark, \"element_uid\")"
   ]
  },
  {
   "cell_type": "code",
   "execution_count": 22,
   "id": "99375e95-e6bd-4e65-a42a-fdd6f755c9fd",
   "metadata": {},
   "outputs": [
    {
     "name": "stdout",
     "output_type": "stream",
     "text": [
      "Join Result:\n",
      "== Physical Plan ==\n",
      "*(5) Project [element_uid#923L, user_uid#924L, watched_time#925L, type#930, duration#931L, feature_1#932, feature_2#933, feature_3#934L, feature_4#935, feature_5#936, availability_0#937, availability_1#938, availability_2#939, attributes_0#940, attributes_1#941, attributes_2#942, attributes_3#943, attributes_4#944, attributes_5#945, attributes_6#946, attributes_7#947, attributes_8#948, attributes_9#949, attributes_10#950, ... 46 more fields]\n",
      "+- *(5) SortMergeJoin [element_uid#923L], [cast(element_uid#929 as bigint)], Inner\n",
      "   :- *(2) Sort [element_uid#923L ASC NULLS FIRST], false, 0\n",
      "   :  +- Exchange hashpartitioning(element_uid#923L, 200), ENSURE_REQUIREMENTS, [plan_id=1492]\n",
      "   :     +- *(1) Filter isnotnull(element_uid#923L)\n",
      "   :        +- *(1) Scan ExistingRDD[element_uid#923L,user_uid#924L,watched_time#925L]\n",
      "   +- *(4) Sort [cast(element_uid#929 as bigint) ASC NULLS FIRST], false, 0\n",
      "      +- Exchange hashpartitioning(cast(element_uid#929 as bigint), 200), ENSURE_REQUIREMENTS, [plan_id=1498]\n",
      "         +- *(3) Filter isnotnull(element_uid#929)\n",
      "            +- *(3) Scan ExistingRDD[element_uid#929,type#930,duration#931L,feature_1#932,feature_2#933,feature_3#934L,feature_4#935,feature_5#936,availability_0#937,availability_1#938,availability_2#939,attributes_0#940,attributes_1#941,attributes_2#942,attributes_3#943,attributes_4#944,attributes_5#945,attributes_6#946,attributes_7#947,attributes_8#948,attributes_9#949,attributes_10#950,attributes_11#951,attributes_12#952,... 44 more fields]\n",
      "\n",
      "\n"
     ]
    },
    {
     "name": "stderr",
     "output_type": "stream",
     "text": [
      "24/07/07 21:15:48 WARN SparkStringUtils: Truncated the string representation of a plan since it was too large. This behavior can be adjusted by setting 'spark.sql.debug.maxToStringFields'.\n",
      "24/07/07 21:15:48 WARN TaskSetManager: Stage 89 contains a task of very large size (3014 KiB). The maximum recommended task size is 1000 KiB.\n",
      "24/07/07 21:15:49 WARN TaskSetManager: Stage 90 contains a task of very large size (18217 KiB). The maximum recommended task size is 1000 KiB.\n",
      "24/07/07 21:15:50 WARN TaskSetManager: Stage 92 contains a task of very large size (18217 KiB). The maximum recommended task size is 1000 KiB.\n"
     ]
    },
    {
     "name": "stdout",
     "output_type": "stream",
     "text": [
      "+-----------+--------+------------+-----+--------+-------------------+------------+---------+------------+------------+--------------+--------------+--------------+------------+------------+------------+------------+------------+------------+------------+------------+------------+------------+-------------+-------------+-------------+-------------+-------------+-------------+-------------+-------------+-------------+-------------+-------------+-------------+-------------+-------------+-------------+-------------+-------------+-------------+-------------+-------------+-------------+-------------+-------------+-------------+-------------+-------------+-------------+-------------+-------------+-------------+-------------+-------------+-------------+-------------+-------------+-------------+-------------+-------------+-------------+-------------+-------------+-------------+-------------+-------------+-------------+-------------+-------------+\n",
      "|element_uid|user_uid|watched_time|type |duration|feature_1          |feature_2   |feature_3|feature_4   |feature_5   |availability_0|availability_1|availability_2|attributes_0|attributes_1|attributes_2|attributes_3|attributes_4|attributes_5|attributes_6|attributes_7|attributes_8|attributes_9|attributes_10|attributes_11|attributes_12|attributes_13|attributes_14|attributes_15|attributes_16|attributes_17|attributes_18|attributes_19|attributes_20|attributes_21|attributes_22|attributes_23|attributes_24|attributes_25|attributes_26|attributes_27|attributes_28|attributes_29|attributes_30|attributes_31|attributes_32|attributes_33|attributes_34|attributes_35|attributes_36|attributes_37|attributes_38|attributes_39|attributes_40|attributes_41|attributes_42|attributes_43|attributes_44|attributes_45|attributes_46|attributes_47|attributes_48|attributes_49|attributes_50|attributes_51|attributes_52|attributes_53|attributes_54|attributes_55|attributes_56|\n",
      "+-----------+--------+------------+-----+--------+-------------------+------------+---------+------------+------------+--------------+--------------+--------------+------------+------------+------------+------------+------------+------------+------------+------------+------------+------------+-------------+-------------+-------------+-------------+-------------+-------------+-------------+-------------+-------------+-------------+-------------+-------------+-------------+-------------+-------------+-------------+-------------+-------------+-------------+-------------+-------------+-------------+-------------+-------------+-------------+-------------+-------------+-------------+-------------+-------------+-------------+-------------+-------------+-------------+-------------+-------------+-------------+-------------+-------------+-------------+-------------+-------------+-------------+-------------+-------------+-------------+-------------+\n",
      "|4894       |303965  |6134        |movie|100     |2.286928444264706E7|0.6773504396|9        |1.1335254517|0.6547073468|purchase      |rent          |subscription  |677.0       |8671.0      |52.0        |7144.0      |32.0        |42.0        |54.0        |14.0        |15.0        |17.0        |18.0         |19.0         |20.0         |21.0         |8672.0       |361.0        |25.0         |NaN          |NaN          |NaN          |NaN          |NaN          |NaN          |NaN          |NaN          |NaN          |NaN          |NaN          |NaN          |NaN          |NaN          |NaN          |NaN          |NaN          |NaN          |NaN          |NaN          |NaN          |NaN          |NaN          |NaN          |NaN          |NaN          |NaN          |NaN          |NaN          |NaN          |NaN          |NaN          |NaN          |NaN          |NaN          |NaN          |NaN          |NaN          |NaN          |NaN          |\n",
      "|4894       |467498  |752         |movie|100     |2.286928444264706E7|0.6773504396|9        |1.1335254517|0.6547073468|purchase      |rent          |subscription  |677.0       |8671.0      |52.0        |7144.0      |32.0        |42.0        |54.0        |14.0        |15.0        |17.0        |18.0         |19.0         |20.0         |21.0         |8672.0       |361.0        |25.0         |NaN          |NaN          |NaN          |NaN          |NaN          |NaN          |NaN          |NaN          |NaN          |NaN          |NaN          |NaN          |NaN          |NaN          |NaN          |NaN          |NaN          |NaN          |NaN          |NaN          |NaN          |NaN          |NaN          |NaN          |NaN          |NaN          |NaN          |NaN          |NaN          |NaN          |NaN          |NaN          |NaN          |NaN          |NaN          |NaN          |NaN          |NaN          |NaN          |NaN          |\n",
      "|4894       |492174  |5892        |movie|100     |2.286928444264706E7|0.6773504396|9        |1.1335254517|0.6547073468|purchase      |rent          |subscription  |677.0       |8671.0      |52.0        |7144.0      |32.0        |42.0        |54.0        |14.0        |15.0        |17.0        |18.0         |19.0         |20.0         |21.0         |8672.0       |361.0        |25.0         |NaN          |NaN          |NaN          |NaN          |NaN          |NaN          |NaN          |NaN          |NaN          |NaN          |NaN          |NaN          |NaN          |NaN          |NaN          |NaN          |NaN          |NaN          |NaN          |NaN          |NaN          |NaN          |NaN          |NaN          |NaN          |NaN          |NaN          |NaN          |NaN          |NaN          |NaN          |NaN          |NaN          |NaN          |NaN          |NaN          |NaN          |NaN          |NaN          |NaN          |\n",
      "|4894       |97085   |867         |movie|100     |2.286928444264706E7|0.6773504396|9        |1.1335254517|0.6547073468|purchase      |rent          |subscription  |677.0       |8671.0      |52.0        |7144.0      |32.0        |42.0        |54.0        |14.0        |15.0        |17.0        |18.0         |19.0         |20.0         |21.0         |8672.0       |361.0        |25.0         |NaN          |NaN          |NaN          |NaN          |NaN          |NaN          |NaN          |NaN          |NaN          |NaN          |NaN          |NaN          |NaN          |NaN          |NaN          |NaN          |NaN          |NaN          |NaN          |NaN          |NaN          |NaN          |NaN          |NaN          |NaN          |NaN          |NaN          |NaN          |NaN          |NaN          |NaN          |NaN          |NaN          |NaN          |NaN          |NaN          |NaN          |NaN          |NaN          |NaN          |\n",
      "|4894       |159474  |5789        |movie|100     |2.286928444264706E7|0.6773504396|9        |1.1335254517|0.6547073468|purchase      |rent          |subscription  |677.0       |8671.0      |52.0        |7144.0      |32.0        |42.0        |54.0        |14.0        |15.0        |17.0        |18.0         |19.0         |20.0         |21.0         |8672.0       |361.0        |25.0         |NaN          |NaN          |NaN          |NaN          |NaN          |NaN          |NaN          |NaN          |NaN          |NaN          |NaN          |NaN          |NaN          |NaN          |NaN          |NaN          |NaN          |NaN          |NaN          |NaN          |NaN          |NaN          |NaN          |NaN          |NaN          |NaN          |NaN          |NaN          |NaN          |NaN          |NaN          |NaN          |NaN          |NaN          |NaN          |NaN          |NaN          |NaN          |NaN          |NaN          |\n",
      "|4894       |87209   |1657        |movie|100     |2.286928444264706E7|0.6773504396|9        |1.1335254517|0.6547073468|purchase      |rent          |subscription  |677.0       |8671.0      |52.0        |7144.0      |32.0        |42.0        |54.0        |14.0        |15.0        |17.0        |18.0         |19.0         |20.0         |21.0         |8672.0       |361.0        |25.0         |NaN          |NaN          |NaN          |NaN          |NaN          |NaN          |NaN          |NaN          |NaN          |NaN          |NaN          |NaN          |NaN          |NaN          |NaN          |NaN          |NaN          |NaN          |NaN          |NaN          |NaN          |NaN          |NaN          |NaN          |NaN          |NaN          |NaN          |NaN          |NaN          |NaN          |NaN          |NaN          |NaN          |NaN          |NaN          |NaN          |NaN          |NaN          |NaN          |NaN          |\n",
      "|4894       |505813  |1293        |movie|100     |2.286928444264706E7|0.6773504396|9        |1.1335254517|0.6547073468|purchase      |rent          |subscription  |677.0       |8671.0      |52.0        |7144.0      |32.0        |42.0        |54.0        |14.0        |15.0        |17.0        |18.0         |19.0         |20.0         |21.0         |8672.0       |361.0        |25.0         |NaN          |NaN          |NaN          |NaN          |NaN          |NaN          |NaN          |NaN          |NaN          |NaN          |NaN          |NaN          |NaN          |NaN          |NaN          |NaN          |NaN          |NaN          |NaN          |NaN          |NaN          |NaN          |NaN          |NaN          |NaN          |NaN          |NaN          |NaN          |NaN          |NaN          |NaN          |NaN          |NaN          |NaN          |NaN          |NaN          |NaN          |NaN          |NaN          |NaN          |\n",
      "|4894       |85875   |5750        |movie|100     |2.286928444264706E7|0.6773504396|9        |1.1335254517|0.6547073468|purchase      |rent          |subscription  |677.0       |8671.0      |52.0        |7144.0      |32.0        |42.0        |54.0        |14.0        |15.0        |17.0        |18.0         |19.0         |20.0         |21.0         |8672.0       |361.0        |25.0         |NaN          |NaN          |NaN          |NaN          |NaN          |NaN          |NaN          |NaN          |NaN          |NaN          |NaN          |NaN          |NaN          |NaN          |NaN          |NaN          |NaN          |NaN          |NaN          |NaN          |NaN          |NaN          |NaN          |NaN          |NaN          |NaN          |NaN          |NaN          |NaN          |NaN          |NaN          |NaN          |NaN          |NaN          |NaN          |NaN          |NaN          |NaN          |NaN          |NaN          |\n",
      "|4894       |38950   |6489        |movie|100     |2.286928444264706E7|0.6773504396|9        |1.1335254517|0.6547073468|purchase      |rent          |subscription  |677.0       |8671.0      |52.0        |7144.0      |32.0        |42.0        |54.0        |14.0        |15.0        |17.0        |18.0         |19.0         |20.0         |21.0         |8672.0       |361.0        |25.0         |NaN          |NaN          |NaN          |NaN          |NaN          |NaN          |NaN          |NaN          |NaN          |NaN          |NaN          |NaN          |NaN          |NaN          |NaN          |NaN          |NaN          |NaN          |NaN          |NaN          |NaN          |NaN          |NaN          |NaN          |NaN          |NaN          |NaN          |NaN          |NaN          |NaN          |NaN          |NaN          |NaN          |NaN          |NaN          |NaN          |NaN          |NaN          |NaN          |NaN          |\n",
      "|4894       |233284  |1064        |movie|100     |2.286928444264706E7|0.6773504396|9        |1.1335254517|0.6547073468|purchase      |rent          |subscription  |677.0       |8671.0      |52.0        |7144.0      |32.0        |42.0        |54.0        |14.0        |15.0        |17.0        |18.0         |19.0         |20.0         |21.0         |8672.0       |361.0        |25.0         |NaN          |NaN          |NaN          |NaN          |NaN          |NaN          |NaN          |NaN          |NaN          |NaN          |NaN          |NaN          |NaN          |NaN          |NaN          |NaN          |NaN          |NaN          |NaN          |NaN          |NaN          |NaN          |NaN          |NaN          |NaN          |NaN          |NaN          |NaN          |NaN          |NaN          |NaN          |NaN          |NaN          |NaN          |NaN          |NaN          |NaN          |NaN          |NaN          |NaN          |\n",
      "|4894       |205759  |84          |movie|100     |2.286928444264706E7|0.6773504396|9        |1.1335254517|0.6547073468|purchase      |rent          |subscription  |677.0       |8671.0      |52.0        |7144.0      |32.0        |42.0        |54.0        |14.0        |15.0        |17.0        |18.0         |19.0         |20.0         |21.0         |8672.0       |361.0        |25.0         |NaN          |NaN          |NaN          |NaN          |NaN          |NaN          |NaN          |NaN          |NaN          |NaN          |NaN          |NaN          |NaN          |NaN          |NaN          |NaN          |NaN          |NaN          |NaN          |NaN          |NaN          |NaN          |NaN          |NaN          |NaN          |NaN          |NaN          |NaN          |NaN          |NaN          |NaN          |NaN          |NaN          |NaN          |NaN          |NaN          |NaN          |NaN          |NaN          |NaN          |\n",
      "|4894       |130487  |436         |movie|100     |2.286928444264706E7|0.6773504396|9        |1.1335254517|0.6547073468|purchase      |rent          |subscription  |677.0       |8671.0      |52.0        |7144.0      |32.0        |42.0        |54.0        |14.0        |15.0        |17.0        |18.0         |19.0         |20.0         |21.0         |8672.0       |361.0        |25.0         |NaN          |NaN          |NaN          |NaN          |NaN          |NaN          |NaN          |NaN          |NaN          |NaN          |NaN          |NaN          |NaN          |NaN          |NaN          |NaN          |NaN          |NaN          |NaN          |NaN          |NaN          |NaN          |NaN          |NaN          |NaN          |NaN          |NaN          |NaN          |NaN          |NaN          |NaN          |NaN          |NaN          |NaN          |NaN          |NaN          |NaN          |NaN          |NaN          |NaN          |\n",
      "|4894       |462806  |6455        |movie|100     |2.286928444264706E7|0.6773504396|9        |1.1335254517|0.6547073468|purchase      |rent          |subscription  |677.0       |8671.0      |52.0        |7144.0      |32.0        |42.0        |54.0        |14.0        |15.0        |17.0        |18.0         |19.0         |20.0         |21.0         |8672.0       |361.0        |25.0         |NaN          |NaN          |NaN          |NaN          |NaN          |NaN          |NaN          |NaN          |NaN          |NaN          |NaN          |NaN          |NaN          |NaN          |NaN          |NaN          |NaN          |NaN          |NaN          |NaN          |NaN          |NaN          |NaN          |NaN          |NaN          |NaN          |NaN          |NaN          |NaN          |NaN          |NaN          |NaN          |NaN          |NaN          |NaN          |NaN          |NaN          |NaN          |NaN          |NaN          |\n",
      "|4894       |471655  |5790        |movie|100     |2.286928444264706E7|0.6773504396|9        |1.1335254517|0.6547073468|purchase      |rent          |subscription  |677.0       |8671.0      |52.0        |7144.0      |32.0        |42.0        |54.0        |14.0        |15.0        |17.0        |18.0         |19.0         |20.0         |21.0         |8672.0       |361.0        |25.0         |NaN          |NaN          |NaN          |NaN          |NaN          |NaN          |NaN          |NaN          |NaN          |NaN          |NaN          |NaN          |NaN          |NaN          |NaN          |NaN          |NaN          |NaN          |NaN          |NaN          |NaN          |NaN          |NaN          |NaN          |NaN          |NaN          |NaN          |NaN          |NaN          |NaN          |NaN          |NaN          |NaN          |NaN          |NaN          |NaN          |NaN          |NaN          |NaN          |NaN          |\n",
      "|4894       |554032  |2360        |movie|100     |2.286928444264706E7|0.6773504396|9        |1.1335254517|0.6547073468|purchase      |rent          |subscription  |677.0       |8671.0      |52.0        |7144.0      |32.0        |42.0        |54.0        |14.0        |15.0        |17.0        |18.0         |19.0         |20.0         |21.0         |8672.0       |361.0        |25.0         |NaN          |NaN          |NaN          |NaN          |NaN          |NaN          |NaN          |NaN          |NaN          |NaN          |NaN          |NaN          |NaN          |NaN          |NaN          |NaN          |NaN          |NaN          |NaN          |NaN          |NaN          |NaN          |NaN          |NaN          |NaN          |NaN          |NaN          |NaN          |NaN          |NaN          |NaN          |NaN          |NaN          |NaN          |NaN          |NaN          |NaN          |NaN          |NaN          |NaN          |\n",
      "|4894       |394300  |2990        |movie|100     |2.286928444264706E7|0.6773504396|9        |1.1335254517|0.6547073468|purchase      |rent          |subscription  |677.0       |8671.0      |52.0        |7144.0      |32.0        |42.0        |54.0        |14.0        |15.0        |17.0        |18.0         |19.0         |20.0         |21.0         |8672.0       |361.0        |25.0         |NaN          |NaN          |NaN          |NaN          |NaN          |NaN          |NaN          |NaN          |NaN          |NaN          |NaN          |NaN          |NaN          |NaN          |NaN          |NaN          |NaN          |NaN          |NaN          |NaN          |NaN          |NaN          |NaN          |NaN          |NaN          |NaN          |NaN          |NaN          |NaN          |NaN          |NaN          |NaN          |NaN          |NaN          |NaN          |NaN          |NaN          |NaN          |NaN          |NaN          |\n",
      "|4894       |526547  |5961        |movie|100     |2.286928444264706E7|0.6773504396|9        |1.1335254517|0.6547073468|purchase      |rent          |subscription  |677.0       |8671.0      |52.0        |7144.0      |32.0        |42.0        |54.0        |14.0        |15.0        |17.0        |18.0         |19.0         |20.0         |21.0         |8672.0       |361.0        |25.0         |NaN          |NaN          |NaN          |NaN          |NaN          |NaN          |NaN          |NaN          |NaN          |NaN          |NaN          |NaN          |NaN          |NaN          |NaN          |NaN          |NaN          |NaN          |NaN          |NaN          |NaN          |NaN          |NaN          |NaN          |NaN          |NaN          |NaN          |NaN          |NaN          |NaN          |NaN          |NaN          |NaN          |NaN          |NaN          |NaN          |NaN          |NaN          |NaN          |NaN          |\n",
      "|4894       |86147   |6105        |movie|100     |2.286928444264706E7|0.6773504396|9        |1.1335254517|0.6547073468|purchase      |rent          |subscription  |677.0       |8671.0      |52.0        |7144.0      |32.0        |42.0        |54.0        |14.0        |15.0        |17.0        |18.0         |19.0         |20.0         |21.0         |8672.0       |361.0        |25.0         |NaN          |NaN          |NaN          |NaN          |NaN          |NaN          |NaN          |NaN          |NaN          |NaN          |NaN          |NaN          |NaN          |NaN          |NaN          |NaN          |NaN          |NaN          |NaN          |NaN          |NaN          |NaN          |NaN          |NaN          |NaN          |NaN          |NaN          |NaN          |NaN          |NaN          |NaN          |NaN          |NaN          |NaN          |NaN          |NaN          |NaN          |NaN          |NaN          |NaN          |\n",
      "|4894       |20358   |289         |movie|100     |2.286928444264706E7|0.6773504396|9        |1.1335254517|0.6547073468|purchase      |rent          |subscription  |677.0       |8671.0      |52.0        |7144.0      |32.0        |42.0        |54.0        |14.0        |15.0        |17.0        |18.0         |19.0         |20.0         |21.0         |8672.0       |361.0        |25.0         |NaN          |NaN          |NaN          |NaN          |NaN          |NaN          |NaN          |NaN          |NaN          |NaN          |NaN          |NaN          |NaN          |NaN          |NaN          |NaN          |NaN          |NaN          |NaN          |NaN          |NaN          |NaN          |NaN          |NaN          |NaN          |NaN          |NaN          |NaN          |NaN          |NaN          |NaN          |NaN          |NaN          |NaN          |NaN          |NaN          |NaN          |NaN          |NaN          |NaN          |\n",
      "|4894       |398560  |5732        |movie|100     |2.286928444264706E7|0.6773504396|9        |1.1335254517|0.6547073468|purchase      |rent          |subscription  |677.0       |8671.0      |52.0        |7144.0      |32.0        |42.0        |54.0        |14.0        |15.0        |17.0        |18.0         |19.0         |20.0         |21.0         |8672.0       |361.0        |25.0         |NaN          |NaN          |NaN          |NaN          |NaN          |NaN          |NaN          |NaN          |NaN          |NaN          |NaN          |NaN          |NaN          |NaN          |NaN          |NaN          |NaN          |NaN          |NaN          |NaN          |NaN          |NaN          |NaN          |NaN          |NaN          |NaN          |NaN          |NaN          |NaN          |NaN          |NaN          |NaN          |NaN          |NaN          |NaN          |NaN          |NaN          |NaN          |NaN          |NaN          |\n",
      "+-----------+--------+------------+-----+--------+-------------------+------------+---------+------------+------------+--------------+--------------+--------------+------------+------------+------------+------------+------------+------------+------------+------------+------------+------------+-------------+-------------+-------------+-------------+-------------+-------------+-------------+-------------+-------------+-------------+-------------+-------------+-------------+-------------+-------------+-------------+-------------+-------------+-------------+-------------+-------------+-------------+-------------+-------------+-------------+-------------+-------------+-------------+-------------+-------------+-------------+-------------+-------------+-------------+-------------+-------------+-------------+-------------+-------------+-------------+-------------+-------------+-------------+-------------+-------------+-------------+-------------+\n",
      "only showing top 20 rows\n",
      "\n",
      "Data Skew Analysis:\n"
     ]
    },
    {
     "name": "stderr",
     "output_type": "stream",
     "text": [
      "[Stage 92:>                                                         (0 + 2) / 2]\r"
     ]
    },
    {
     "name": "stdout",
     "output_type": "stream",
     "text": [
      "+-----------+-------+\n",
      "|element_uid|count  |\n",
      "+-----------+-------+\n",
      "|2714       |2732800|\n",
      "|747        |61272  |\n",
      "|8763       |299    |\n",
      "|9898       |299    |\n",
      "|9837       |299    |\n",
      "|10170      |299    |\n",
      "|3469       |299    |\n",
      "|2028       |298    |\n",
      "|4107       |298    |\n",
      "|6812       |298    |\n",
      "+-----------+-------+\n",
      "only showing top 10 rows\n",
      "\n"
     ]
    },
    {
     "name": "stderr",
     "output_type": "stream",
     "text": [
      "                                                                                \r"
     ]
    }
   ],
   "source": [
    "# Анализируем перекос данных\n",
    "skew_analysis = transactions_spark.groupBy(\"element_uid\").agg(count(\"*\").alias(\"count\")).orderBy(col(\"count\").desc())\n",
    "\n",
    "# Выводим план выполнения и результаты\n",
    "print(\"Join Result:\")\n",
    "result.explain()\n",
    "result.show(truncate=False)\n",
    "\n",
    "print(\"Data Skew Analysis:\")\n",
    "skew_analysis.show(10, truncate=False)"
   ]
  },
  {
   "cell_type": "markdown",
   "id": "7a4ada1e-478b-40a9-b27c-813e31f85110",
   "metadata": {},
   "source": [
    "Результаты первого join показывают значительный перекос в данных. Один element_uid (2714) имеет 2,732,800 записей, что намного больше, чем у остальных. Второй по количеству записей element_uid (747) имеет только 61,272 записи. Остальные element_uid имеют около 300 записей каждый.\n",
    "Такой перекос данных создает серьезные проблемы. При выполнении join, большая часть данных будет сконцентрирована на одном executor'е, который обрабатывает element_uid 2714. Это приводит к неравномерному распределению нагрузки. В результате общая производительность кластера значительно снижается, а время выполнения запроса увеличивается.\n",
    "Существует риск OutOfMemoryError на executor'е."
   ]
  },
  {
   "cell_type": "markdown",
   "id": "108c868f",
   "metadata": {},
   "source": [
    "### Решение с оптимизацией"
   ]
  },
  {
   "cell_type": "code",
   "execution_count": null,
   "id": "6445a89e",
   "metadata": {},
   "outputs": [],
   "source": [
    "# Ваше решение в ячейках ниже ..."
   ]
  },
  {
   "cell_type": "code",
   "execution_count": 23,
   "id": "9c22b02c-8049-47de-80b6-8c1c553ceccc",
   "metadata": {},
   "outputs": [
    {
     "name": "stdout",
     "output_type": "stream",
     "text": [
      "Salted Join Result:\n",
      "== Physical Plan ==\n",
      "*(6) Project [element_uid#923L, salt#1441, user_uid#924L, watched_time#925L, type#930, duration#931L, feature_1#932, feature_2#933, feature_3#934L, feature_4#935, feature_5#936, availability_0#937, availability_1#938, availability_2#939, attributes_0#940, attributes_1#941, attributes_2#942, attributes_3#943, attributes_4#944, attributes_5#945, attributes_6#946, attributes_7#947, attributes_8#948, attributes_9#949, ... 47 more fields]\n",
      "+- *(6) SortMergeJoin [element_uid#923L, cast(salt#1441 as bigint)], [cast(element_uid#929 as bigint), salt#1448L], Inner\n",
      "   :- *(2) Sort [element_uid#923L ASC NULLS FIRST, cast(salt#1441 as bigint) ASC NULLS FIRST], false, 0\n",
      "   :  +- Exchange hashpartitioning(element_uid#923L, cast(salt#1441 as bigint), 200), ENSURE_REQUIREMENTS, [plan_id=1661]\n",
      "   :     +- *(1) Filter (isnotnull(element_uid#923L) AND isnotnull(salt#1441))\n",
      "   :        +- *(1) Project [element_uid#923L, user_uid#924L, watched_time#925L, cast((rand(-2965884827267678185) * 10.0) as int) AS salt#1441]\n",
      "   :           +- *(1) Scan ExistingRDD[element_uid#923L,user_uid#924L,watched_time#925L]\n",
      "   +- *(5) Sort [cast(element_uid#929 as bigint) ASC NULLS FIRST, salt#1448L ASC NULLS FIRST], false, 0\n",
      "      +- Exchange hashpartitioning(cast(element_uid#929 as bigint), salt#1448L, 200), ENSURE_REQUIREMENTS, [plan_id=1669]\n",
      "         +- CartesianProduct\n",
      "            :- *(3) Filter isnotnull(element_uid#929)\n",
      "            :  +- *(3) Scan ExistingRDD[element_uid#929,type#930,duration#931L,feature_1#932,feature_2#933,feature_3#934L,feature_4#935,feature_5#936,availability_0#937,availability_1#938,availability_2#939,attributes_0#940,attributes_1#941,attributes_2#942,attributes_3#943,attributes_4#944,attributes_5#945,attributes_6#946,attributes_7#947,attributes_8#948,attributes_9#949,attributes_10#950,attributes_11#951,attributes_12#952,... 44 more fields]\n",
      "            +- *(4) Project [id#1446L AS salt#1448L]\n",
      "               +- *(4) Range (0, 10, step=1, splits=2)\n",
      "\n",
      "\n"
     ]
    },
    {
     "name": "stderr",
     "output_type": "stream",
     "text": [
      "24/07/07 21:16:02 WARN TaskSetManager: Stage 94 contains a task of very large size (18217 KiB). The maximum recommended task size is 1000 KiB.\n",
      "24/07/07 21:16:03 WARN TaskSetManager: Stage 95 contains a task of very large size (3014 KiB). The maximum recommended task size is 1000 KiB.\n",
      "[Stage 95:=============================>                            (2 + 2) / 4]\r"
     ]
    },
    {
     "name": "stdout",
     "output_type": "stream",
     "text": [
      "+-----------+----+--------+------------+-----+--------+-------------------+------------+---------+-----------+------------+--------------+--------------+--------------+------------+------------+------------+------------+------------+------------+------------+------------+------------+------------+-------------+-------------+-------------+-------------+-------------+-------------+-------------+-------------+-------------+-------------+-------------+-------------+-------------+-------------+-------------+-------------+-------------+-------------+-------------+-------------+-------------+-------------+-------------+-------------+-------------+-------------+-------------+-------------+-------------+-------------+-------------+-------------+-------------+-------------+-------------+-------------+-------------+-------------+-------------+-------------+-------------+-------------+-------------+-------------+-------------+-------------+-------------+\n",
      "|element_uid|salt|user_uid|watched_time|type |duration|feature_1          |feature_2   |feature_3|feature_4  |feature_5   |availability_0|availability_1|availability_2|attributes_0|attributes_1|attributes_2|attributes_3|attributes_4|attributes_5|attributes_6|attributes_7|attributes_8|attributes_9|attributes_10|attributes_11|attributes_12|attributes_13|attributes_14|attributes_15|attributes_16|attributes_17|attributes_18|attributes_19|attributes_20|attributes_21|attributes_22|attributes_23|attributes_24|attributes_25|attributes_26|attributes_27|attributes_28|attributes_29|attributes_30|attributes_31|attributes_32|attributes_33|attributes_34|attributes_35|attributes_36|attributes_37|attributes_38|attributes_39|attributes_40|attributes_41|attributes_42|attributes_43|attributes_44|attributes_45|attributes_46|attributes_47|attributes_48|attributes_49|attributes_50|attributes_51|attributes_52|attributes_53|attributes_54|attributes_55|attributes_56|\n",
      "+-----------+----+--------+------------+-----+--------+-------------------+------------+---------+-----------+------------+--------------+--------------+--------------+------------+------------+------------+------------+------------+------------+------------+------------+------------+------------+-------------+-------------+-------------+-------------+-------------+-------------+-------------+-------------+-------------+-------------+-------------+-------------+-------------+-------------+-------------+-------------+-------------+-------------+-------------+-------------+-------------+-------------+-------------+-------------+-------------+-------------+-------------+-------------+-------------+-------------+-------------+-------------+-------------+-------------+-------------+-------------+-------------+-------------+-------------+-------------+-------------+-------------+-------------+-------------+-------------+-------------+-------------+\n",
      "|396        |1   |259357  |4422        |movie|80      |4.077936182920017E7|0.6995015054|7        |1.140272879|0.4496666915|purchase      |rent          |NaN           |934.0       |16915.0     |1580.0      |4357.0      |7.0         |16916.0     |11.0        |1492.0      |131.0       |170.0       |33.0         |17.0         |188.0        |25.0         |NaN          |NaN          |NaN          |NaN          |NaN          |NaN          |NaN          |NaN          |NaN          |NaN          |NaN          |NaN          |NaN          |NaN          |NaN          |NaN          |NaN          |NaN          |NaN          |NaN          |NaN          |NaN          |NaN          |NaN          |NaN          |NaN          |NaN          |NaN          |NaN          |NaN          |NaN          |NaN          |NaN          |NaN          |NaN          |NaN          |NaN          |NaN          |NaN          |NaN          |NaN          |NaN          |NaN          |\n",
      "|396        |1   |141651  |2107        |movie|80      |4.077936182920017E7|0.6995015054|7        |1.140272879|0.4496666915|purchase      |rent          |NaN           |934.0       |16915.0     |1580.0      |4357.0      |7.0         |16916.0     |11.0        |1492.0      |131.0       |170.0       |33.0         |17.0         |188.0        |25.0         |NaN          |NaN          |NaN          |NaN          |NaN          |NaN          |NaN          |NaN          |NaN          |NaN          |NaN          |NaN          |NaN          |NaN          |NaN          |NaN          |NaN          |NaN          |NaN          |NaN          |NaN          |NaN          |NaN          |NaN          |NaN          |NaN          |NaN          |NaN          |NaN          |NaN          |NaN          |NaN          |NaN          |NaN          |NaN          |NaN          |NaN          |NaN          |NaN          |NaN          |NaN          |NaN          |NaN          |\n",
      "|396        |1   |135049  |8510        |movie|80      |4.077936182920017E7|0.6995015054|7        |1.140272879|0.4496666915|purchase      |rent          |NaN           |934.0       |16915.0     |1580.0      |4357.0      |7.0         |16916.0     |11.0        |1492.0      |131.0       |170.0       |33.0         |17.0         |188.0        |25.0         |NaN          |NaN          |NaN          |NaN          |NaN          |NaN          |NaN          |NaN          |NaN          |NaN          |NaN          |NaN          |NaN          |NaN          |NaN          |NaN          |NaN          |NaN          |NaN          |NaN          |NaN          |NaN          |NaN          |NaN          |NaN          |NaN          |NaN          |NaN          |NaN          |NaN          |NaN          |NaN          |NaN          |NaN          |NaN          |NaN          |NaN          |NaN          |NaN          |NaN          |NaN          |NaN          |NaN          |\n",
      "|396        |1   |550011  |9477        |movie|80      |4.077936182920017E7|0.6995015054|7        |1.140272879|0.4496666915|purchase      |rent          |NaN           |934.0       |16915.0     |1580.0      |4357.0      |7.0         |16916.0     |11.0        |1492.0      |131.0       |170.0       |33.0         |17.0         |188.0        |25.0         |NaN          |NaN          |NaN          |NaN          |NaN          |NaN          |NaN          |NaN          |NaN          |NaN          |NaN          |NaN          |NaN          |NaN          |NaN          |NaN          |NaN          |NaN          |NaN          |NaN          |NaN          |NaN          |NaN          |NaN          |NaN          |NaN          |NaN          |NaN          |NaN          |NaN          |NaN          |NaN          |NaN          |NaN          |NaN          |NaN          |NaN          |NaN          |NaN          |NaN          |NaN          |NaN          |NaN          |\n",
      "|396        |1   |388887  |3886        |movie|80      |4.077936182920017E7|0.6995015054|7        |1.140272879|0.4496666915|purchase      |rent          |NaN           |934.0       |16915.0     |1580.0      |4357.0      |7.0         |16916.0     |11.0        |1492.0      |131.0       |170.0       |33.0         |17.0         |188.0        |25.0         |NaN          |NaN          |NaN          |NaN          |NaN          |NaN          |NaN          |NaN          |NaN          |NaN          |NaN          |NaN          |NaN          |NaN          |NaN          |NaN          |NaN          |NaN          |NaN          |NaN          |NaN          |NaN          |NaN          |NaN          |NaN          |NaN          |NaN          |NaN          |NaN          |NaN          |NaN          |NaN          |NaN          |NaN          |NaN          |NaN          |NaN          |NaN          |NaN          |NaN          |NaN          |NaN          |NaN          |\n",
      "|396        |1   |73897   |4939        |movie|80      |4.077936182920017E7|0.6995015054|7        |1.140272879|0.4496666915|purchase      |rent          |NaN           |934.0       |16915.0     |1580.0      |4357.0      |7.0         |16916.0     |11.0        |1492.0      |131.0       |170.0       |33.0         |17.0         |188.0        |25.0         |NaN          |NaN          |NaN          |NaN          |NaN          |NaN          |NaN          |NaN          |NaN          |NaN          |NaN          |NaN          |NaN          |NaN          |NaN          |NaN          |NaN          |NaN          |NaN          |NaN          |NaN          |NaN          |NaN          |NaN          |NaN          |NaN          |NaN          |NaN          |NaN          |NaN          |NaN          |NaN          |NaN          |NaN          |NaN          |NaN          |NaN          |NaN          |NaN          |NaN          |NaN          |NaN          |NaN          |\n",
      "|396        |1   |488334  |407         |movie|80      |4.077936182920017E7|0.6995015054|7        |1.140272879|0.4496666915|purchase      |rent          |NaN           |934.0       |16915.0     |1580.0      |4357.0      |7.0         |16916.0     |11.0        |1492.0      |131.0       |170.0       |33.0         |17.0         |188.0        |25.0         |NaN          |NaN          |NaN          |NaN          |NaN          |NaN          |NaN          |NaN          |NaN          |NaN          |NaN          |NaN          |NaN          |NaN          |NaN          |NaN          |NaN          |NaN          |NaN          |NaN          |NaN          |NaN          |NaN          |NaN          |NaN          |NaN          |NaN          |NaN          |NaN          |NaN          |NaN          |NaN          |NaN          |NaN          |NaN          |NaN          |NaN          |NaN          |NaN          |NaN          |NaN          |NaN          |NaN          |\n",
      "|396        |1   |9228    |4933        |movie|80      |4.077936182920017E7|0.6995015054|7        |1.140272879|0.4496666915|purchase      |rent          |NaN           |934.0       |16915.0     |1580.0      |4357.0      |7.0         |16916.0     |11.0        |1492.0      |131.0       |170.0       |33.0         |17.0         |188.0        |25.0         |NaN          |NaN          |NaN          |NaN          |NaN          |NaN          |NaN          |NaN          |NaN          |NaN          |NaN          |NaN          |NaN          |NaN          |NaN          |NaN          |NaN          |NaN          |NaN          |NaN          |NaN          |NaN          |NaN          |NaN          |NaN          |NaN          |NaN          |NaN          |NaN          |NaN          |NaN          |NaN          |NaN          |NaN          |NaN          |NaN          |NaN          |NaN          |NaN          |NaN          |NaN          |NaN          |NaN          |\n",
      "|396        |1   |96766   |4274        |movie|80      |4.077936182920017E7|0.6995015054|7        |1.140272879|0.4496666915|purchase      |rent          |NaN           |934.0       |16915.0     |1580.0      |4357.0      |7.0         |16916.0     |11.0        |1492.0      |131.0       |170.0       |33.0         |17.0         |188.0        |25.0         |NaN          |NaN          |NaN          |NaN          |NaN          |NaN          |NaN          |NaN          |NaN          |NaN          |NaN          |NaN          |NaN          |NaN          |NaN          |NaN          |NaN          |NaN          |NaN          |NaN          |NaN          |NaN          |NaN          |NaN          |NaN          |NaN          |NaN          |NaN          |NaN          |NaN          |NaN          |NaN          |NaN          |NaN          |NaN          |NaN          |NaN          |NaN          |NaN          |NaN          |NaN          |NaN          |NaN          |\n",
      "|396        |1   |22228   |4576        |movie|80      |4.077936182920017E7|0.6995015054|7        |1.140272879|0.4496666915|purchase      |rent          |NaN           |934.0       |16915.0     |1580.0      |4357.0      |7.0         |16916.0     |11.0        |1492.0      |131.0       |170.0       |33.0         |17.0         |188.0        |25.0         |NaN          |NaN          |NaN          |NaN          |NaN          |NaN          |NaN          |NaN          |NaN          |NaN          |NaN          |NaN          |NaN          |NaN          |NaN          |NaN          |NaN          |NaN          |NaN          |NaN          |NaN          |NaN          |NaN          |NaN          |NaN          |NaN          |NaN          |NaN          |NaN          |NaN          |NaN          |NaN          |NaN          |NaN          |NaN          |NaN          |NaN          |NaN          |NaN          |NaN          |NaN          |NaN          |NaN          |\n",
      "|396        |1   |548394  |4058        |movie|80      |4.077936182920017E7|0.6995015054|7        |1.140272879|0.4496666915|purchase      |rent          |NaN           |934.0       |16915.0     |1580.0      |4357.0      |7.0         |16916.0     |11.0        |1492.0      |131.0       |170.0       |33.0         |17.0         |188.0        |25.0         |NaN          |NaN          |NaN          |NaN          |NaN          |NaN          |NaN          |NaN          |NaN          |NaN          |NaN          |NaN          |NaN          |NaN          |NaN          |NaN          |NaN          |NaN          |NaN          |NaN          |NaN          |NaN          |NaN          |NaN          |NaN          |NaN          |NaN          |NaN          |NaN          |NaN          |NaN          |NaN          |NaN          |NaN          |NaN          |NaN          |NaN          |NaN          |NaN          |NaN          |NaN          |NaN          |NaN          |\n",
      "|396        |1   |460355  |4343        |movie|80      |4.077936182920017E7|0.6995015054|7        |1.140272879|0.4496666915|purchase      |rent          |NaN           |934.0       |16915.0     |1580.0      |4357.0      |7.0         |16916.0     |11.0        |1492.0      |131.0       |170.0       |33.0         |17.0         |188.0        |25.0         |NaN          |NaN          |NaN          |NaN          |NaN          |NaN          |NaN          |NaN          |NaN          |NaN          |NaN          |NaN          |NaN          |NaN          |NaN          |NaN          |NaN          |NaN          |NaN          |NaN          |NaN          |NaN          |NaN          |NaN          |NaN          |NaN          |NaN          |NaN          |NaN          |NaN          |NaN          |NaN          |NaN          |NaN          |NaN          |NaN          |NaN          |NaN          |NaN          |NaN          |NaN          |NaN          |NaN          |\n",
      "|396        |1   |84032   |1278        |movie|80      |4.077936182920017E7|0.6995015054|7        |1.140272879|0.4496666915|purchase      |rent          |NaN           |934.0       |16915.0     |1580.0      |4357.0      |7.0         |16916.0     |11.0        |1492.0      |131.0       |170.0       |33.0         |17.0         |188.0        |25.0         |NaN          |NaN          |NaN          |NaN          |NaN          |NaN          |NaN          |NaN          |NaN          |NaN          |NaN          |NaN          |NaN          |NaN          |NaN          |NaN          |NaN          |NaN          |NaN          |NaN          |NaN          |NaN          |NaN          |NaN          |NaN          |NaN          |NaN          |NaN          |NaN          |NaN          |NaN          |NaN          |NaN          |NaN          |NaN          |NaN          |NaN          |NaN          |NaN          |NaN          |NaN          |NaN          |NaN          |\n",
      "|396        |1   |451147  |4816        |movie|80      |4.077936182920017E7|0.6995015054|7        |1.140272879|0.4496666915|purchase      |rent          |NaN           |934.0       |16915.0     |1580.0      |4357.0      |7.0         |16916.0     |11.0        |1492.0      |131.0       |170.0       |33.0         |17.0         |188.0        |25.0         |NaN          |NaN          |NaN          |NaN          |NaN          |NaN          |NaN          |NaN          |NaN          |NaN          |NaN          |NaN          |NaN          |NaN          |NaN          |NaN          |NaN          |NaN          |NaN          |NaN          |NaN          |NaN          |NaN          |NaN          |NaN          |NaN          |NaN          |NaN          |NaN          |NaN          |NaN          |NaN          |NaN          |NaN          |NaN          |NaN          |NaN          |NaN          |NaN          |NaN          |NaN          |NaN          |NaN          |\n",
      "|396        |1   |240840  |30526       |movie|80      |4.077936182920017E7|0.6995015054|7        |1.140272879|0.4496666915|purchase      |rent          |NaN           |934.0       |16915.0     |1580.0      |4357.0      |7.0         |16916.0     |11.0        |1492.0      |131.0       |170.0       |33.0         |17.0         |188.0        |25.0         |NaN          |NaN          |NaN          |NaN          |NaN          |NaN          |NaN          |NaN          |NaN          |NaN          |NaN          |NaN          |NaN          |NaN          |NaN          |NaN          |NaN          |NaN          |NaN          |NaN          |NaN          |NaN          |NaN          |NaN          |NaN          |NaN          |NaN          |NaN          |NaN          |NaN          |NaN          |NaN          |NaN          |NaN          |NaN          |NaN          |NaN          |NaN          |NaN          |NaN          |NaN          |NaN          |NaN          |\n",
      "|396        |1   |121904  |4741        |movie|80      |4.077936182920017E7|0.6995015054|7        |1.140272879|0.4496666915|purchase      |rent          |NaN           |934.0       |16915.0     |1580.0      |4357.0      |7.0         |16916.0     |11.0        |1492.0      |131.0       |170.0       |33.0         |17.0         |188.0        |25.0         |NaN          |NaN          |NaN          |NaN          |NaN          |NaN          |NaN          |NaN          |NaN          |NaN          |NaN          |NaN          |NaN          |NaN          |NaN          |NaN          |NaN          |NaN          |NaN          |NaN          |NaN          |NaN          |NaN          |NaN          |NaN          |NaN          |NaN          |NaN          |NaN          |NaN          |NaN          |NaN          |NaN          |NaN          |NaN          |NaN          |NaN          |NaN          |NaN          |NaN          |NaN          |NaN          |NaN          |\n",
      "|396        |1   |369439  |4711        |movie|80      |4.077936182920017E7|0.6995015054|7        |1.140272879|0.4496666915|purchase      |rent          |NaN           |934.0       |16915.0     |1580.0      |4357.0      |7.0         |16916.0     |11.0        |1492.0      |131.0       |170.0       |33.0         |17.0         |188.0        |25.0         |NaN          |NaN          |NaN          |NaN          |NaN          |NaN          |NaN          |NaN          |NaN          |NaN          |NaN          |NaN          |NaN          |NaN          |NaN          |NaN          |NaN          |NaN          |NaN          |NaN          |NaN          |NaN          |NaN          |NaN          |NaN          |NaN          |NaN          |NaN          |NaN          |NaN          |NaN          |NaN          |NaN          |NaN          |NaN          |NaN          |NaN          |NaN          |NaN          |NaN          |NaN          |NaN          |NaN          |\n",
      "|396        |1   |514696  |7845        |movie|80      |4.077936182920017E7|0.6995015054|7        |1.140272879|0.4496666915|purchase      |rent          |NaN           |934.0       |16915.0     |1580.0      |4357.0      |7.0         |16916.0     |11.0        |1492.0      |131.0       |170.0       |33.0         |17.0         |188.0        |25.0         |NaN          |NaN          |NaN          |NaN          |NaN          |NaN          |NaN          |NaN          |NaN          |NaN          |NaN          |NaN          |NaN          |NaN          |NaN          |NaN          |NaN          |NaN          |NaN          |NaN          |NaN          |NaN          |NaN          |NaN          |NaN          |NaN          |NaN          |NaN          |NaN          |NaN          |NaN          |NaN          |NaN          |NaN          |NaN          |NaN          |NaN          |NaN          |NaN          |NaN          |NaN          |NaN          |NaN          |\n",
      "|396        |1   |422219  |4771        |movie|80      |4.077936182920017E7|0.6995015054|7        |1.140272879|0.4496666915|purchase      |rent          |NaN           |934.0       |16915.0     |1580.0      |4357.0      |7.0         |16916.0     |11.0        |1492.0      |131.0       |170.0       |33.0         |17.0         |188.0        |25.0         |NaN          |NaN          |NaN          |NaN          |NaN          |NaN          |NaN          |NaN          |NaN          |NaN          |NaN          |NaN          |NaN          |NaN          |NaN          |NaN          |NaN          |NaN          |NaN          |NaN          |NaN          |NaN          |NaN          |NaN          |NaN          |NaN          |NaN          |NaN          |NaN          |NaN          |NaN          |NaN          |NaN          |NaN          |NaN          |NaN          |NaN          |NaN          |NaN          |NaN          |NaN          |NaN          |NaN          |\n",
      "|396        |1   |69819   |5496        |movie|80      |4.077936182920017E7|0.6995015054|7        |1.140272879|0.4496666915|purchase      |rent          |NaN           |934.0       |16915.0     |1580.0      |4357.0      |7.0         |16916.0     |11.0        |1492.0      |131.0       |170.0       |33.0         |17.0         |188.0        |25.0         |NaN          |NaN          |NaN          |NaN          |NaN          |NaN          |NaN          |NaN          |NaN          |NaN          |NaN          |NaN          |NaN          |NaN          |NaN          |NaN          |NaN          |NaN          |NaN          |NaN          |NaN          |NaN          |NaN          |NaN          |NaN          |NaN          |NaN          |NaN          |NaN          |NaN          |NaN          |NaN          |NaN          |NaN          |NaN          |NaN          |NaN          |NaN          |NaN          |NaN          |NaN          |NaN          |NaN          |\n",
      "+-----------+----+--------+------------+-----+--------+-------------------+------------+---------+-----------+------------+--------------+--------------+--------------+------------+------------+------------+------------+------------+------------+------------+------------+------------+------------+-------------+-------------+-------------+-------------+-------------+-------------+-------------+-------------+-------------+-------------+-------------+-------------+-------------+-------------+-------------+-------------+-------------+-------------+-------------+-------------+-------------+-------------+-------------+-------------+-------------+-------------+-------------+-------------+-------------+-------------+-------------+-------------+-------------+-------------+-------------+-------------+-------------+-------------+-------------+-------------+-------------+-------------+-------------+-------------+-------------+-------------+-------------+\n",
      "only showing top 20 rows\n",
      "\n"
     ]
    },
    {
     "name": "stderr",
     "output_type": "stream",
     "text": [
      "                                                                                \r"
     ]
    }
   ],
   "source": [
    "# Решение с использованием salt-join подхода\n",
    "def salt_join(df1, df2, join_key, num_salts=10):\n",
    "    salted_df1 = df1.withColumn(\"salt\", (rand() * num_salts).cast(\"int\"))\n",
    "    salted_df2 = df2.crossJoin(spark.range(num_salts).toDF(\"salt\"))\n",
    "    return salted_df1.join(salted_df2, [join_key, \"salt\"])\n",
    "\n",
    "salted_result = salt_join(transactions_spark, catalogue_spark, \"element_uid\")\n",
    "\n",
    "print(\"Salted Join Result:\")\n",
    "salted_result.explain()\n",
    "salted_result.show(truncate=False)"
   ]
  },
  {
   "cell_type": "markdown",
   "id": "8812baf4-037a-46a5-b7c1-34258cbec01b",
   "metadata": {},
   "source": [
    "Судя по выводу, данные распределены более равномерно: мы видим записи с разными element_uid без явного доминирования одного значения.\n",
    "Добавление случайного \"salt\" значения помогает распределить данные более равномерно между executor'ами. Даже если у нас есть element_uid с большим количеством записей, они будут разделены на несколько частей, каждая с своим значением \"salt\". Более равномерное распределение данных позволяет Spark эффективнее использовать все доступные ресурсы кластера. Salt-join делает запрос более сложным, что может затруднить его понимание и отладку."
   ]
  },
  {
   "cell_type": "code",
   "execution_count": null,
   "id": "238efd2a",
   "metadata": {},
   "outputs": [],
   "source": []
  },
  {
   "cell_type": "markdown",
   "id": "01898809",
   "metadata": {},
   "source": [
    "# Задание 3\n",
    "\n",
    "## Входные данные \n",
    "\n",
    "*cut_transactions.csv*  — информация о длительности просомтра контента пользователям\n",
    "\n",
    "Описание фичей в cut_transactions.csv: \n",
    "1. user_uid — уникальный идентификатор пользователя\n",
    "2.  element_uid — уникальный идентификатор контента\n",
    "3.  watched_time — время просмотра в секундах\n",
    "\n",
    "*cut_ratings.csv*  — информация об оценках, поставленных пользователями\n",
    "\n",
    "Описание фичей в cut_ratings.csv: \n",
    "1. user_uid — уникальный идентификатор пользователя \n",
    "2. element_uid — уникальный идентификатор контента \n",
    "3. rating — поставленный пользователем рейтинг\n",
    "\n",
    "*ids.csv*  — выборка пользователей\n",
    "Описание фичей в ids.csv: \n",
    "1. user_uid — уникальный идентификатор пользователя \n",
    "\n",
    "\n",
    "## Что нужно сделать\n",
    "Для каждого пользователя из выборки посчитать:\n",
    "1. Максимальное и минимальное время просмотра фильмов с оценками 8, 9 и 10 \n",
    "2. Название фичи должно быть в формате feat_агрегирующая_функция_watched_time_rating_оценка. \n",
    "3. Если у пользователь не ставил оценки 8, 9 и 10 то значение фичей должно быть null\n",
    "4. Описать принятые при разработки кода решения и возможные оптимизации\n",
    "\n",
    "P.S. На каждом этапе обработки должно быть должны агрегироваться минимально возможные объемы данных (сокращаем затраты на shuflle)"
   ]
  },
  {
   "cell_type": "code",
   "execution_count": null,
   "id": "1cb99364",
   "metadata": {},
   "outputs": [],
   "source": []
  },
  {
   "cell_type": "markdown",
   "id": "a0963ed4",
   "metadata": {},
   "source": [
    "### Решение"
   ]
  },
  {
   "cell_type": "code",
   "execution_count": 25,
   "id": "31dac489",
   "metadata": {},
   "outputs": [],
   "source": [
    "# Ваше решение в ячейках ниже ..."
   ]
  },
  {
   "cell_type": "code",
   "execution_count": 24,
   "id": "40fc85fb",
   "metadata": {},
   "outputs": [
    {
     "name": "stderr",
     "output_type": "stream",
     "text": [
      "                                                                                \r"
     ]
    },
    {
     "name": "stdout",
     "output_type": "stream",
     "text": [
      "План выполнения:\n",
      "== Physical Plan ==\n",
      "*(9) Project [user_uid#1938, feat_max_watched_time_rating_8#2009, feat_min_watched_time_rating_8#2017, feat_max_watched_time_rating_9#2025, feat_min_watched_time_rating_9#2033, feat_max_watched_time_rating_10#2041, feat_min_watched_time_rating_10#2049]\n",
      "+- *(9) SortMergeJoin [user_uid#1938], [user_uid#1893], LeftOuter\n",
      "   :- *(1) Sort [user_uid#1938 ASC NULLS FIRST], false, 0\n",
      "   :  +- Exchange hashpartitioning(user_uid#1938, 200), ENSURE_REQUIREMENTS, [plan_id=1931]\n",
      "   :     +- FileScan csv [user_uid#1938] Batched: false, DataFilters: [], Format: CSV, Location: InMemoryFileIndex(1 paths)[s3a://input/data/ids.csv], PartitionFilters: [], PushedFilters: [], ReadSchema: struct<user_uid:int>\n",
      "   +- *(8) Sort [user_uid#1893 ASC NULLS FIRST], false, 0\n",
      "      +- *(8) Project [user_uid#1893, __pivot_first(max_watched_time) AS max_watched_time AS `first(max_watched_time) AS max_watched_time`#1975[0] AS feat_max_watched_time_rating_8#2009, __pivot_first(min_watched_time) AS min_watched_time AS `first(min_watched_time) AS min_watched_time`#1983[0] AS feat_min_watched_time_rating_8#2017, __pivot_first(max_watched_time) AS max_watched_time AS `first(max_watched_time) AS max_watched_time`#1975[1] AS feat_max_watched_time_rating_9#2025, __pivot_first(min_watched_time) AS min_watched_time AS `first(min_watched_time) AS min_watched_time`#1983[1] AS feat_min_watched_time_rating_9#2033, __pivot_first(max_watched_time) AS max_watched_time AS `first(max_watched_time) AS max_watched_time`#1975[2] AS feat_max_watched_time_rating_10#2041, __pivot_first(min_watched_time) AS min_watched_time AS `first(min_watched_time) AS min_watched_time`#1983[2] AS feat_min_watched_time_rating_10#2049]\n",
      "         +- HashAggregate(keys=[user_uid#1893], functions=[pivotfirst(rating#1917, first(max_watched_time) AS max_watched_time#1966, 8, 9, 10, 0, 0), pivotfirst(rating#1917, first(min_watched_time) AS min_watched_time#1967, 8, 9, 10, 0, 0)])\n",
      "            +- Exchange hashpartitioning(user_uid#1893, 200), ENSURE_REQUIREMENTS, [plan_id=1967]\n",
      "               +- HashAggregate(keys=[user_uid#1893], functions=[partial_pivotfirst(rating#1917, first(max_watched_time) AS max_watched_time#1966, 8, 9, 10, 0, 0), partial_pivotfirst(rating#1917, first(min_watched_time) AS min_watched_time#1967, 8, 9, 10, 0, 0)])\n",
      "                  +- *(7) HashAggregate(keys=[user_uid#1893, rating#1917], functions=[first(max_watched_time#1951, false), first(min_watched_time#1953, false)])\n",
      "                     +- *(7) HashAggregate(keys=[user_uid#1893, rating#1917], functions=[partial_first(max_watched_time#1951, false), partial_first(min_watched_time#1953, false)])\n",
      "                        +- *(7) HashAggregate(keys=[user_uid#1893, rating#1917], functions=[max(watched_time#1894), min(watched_time#1894)])\n",
      "                           +- Exchange hashpartitioning(user_uid#1893, rating#1917, 200), ENSURE_REQUIREMENTS, [plan_id=1960]\n",
      "                              +- *(6) HashAggregate(keys=[user_uid#1893, rating#1917], functions=[partial_max(watched_time#1894), partial_min(watched_time#1894)])\n",
      "                                 +- *(6) Project [user_uid#1893, watched_time#1894, rating#1917]\n",
      "                                    +- *(6) SortMergeJoin [user_uid#1893, element_uid#1892], [user_uid#1915, element_uid#1916], Inner\n",
      "                                       :- *(3) Sort [user_uid#1893 ASC NULLS FIRST, element_uid#1892 ASC NULLS FIRST], false, 0\n",
      "                                       :  +- Exchange hashpartitioning(user_uid#1893, element_uid#1892, 200), ENSURE_REQUIREMENTS, [plan_id=1943]\n",
      "                                       :     +- *(2) Filter (isnotnull(user_uid#1893) AND isnotnull(element_uid#1892))\n",
      "                                       :        +- FileScan csv [element_uid#1892,user_uid#1893,watched_time#1894] Batched: false, DataFilters: [isnotnull(user_uid#1893), isnotnull(element_uid#1892)], Format: CSV, Location: InMemoryFileIndex(1 paths)[s3a://input/data/cut_transactions.csv], PartitionFilters: [], PushedFilters: [IsNotNull(user_uid), IsNotNull(element_uid)], ReadSchema: struct<element_uid:int,user_uid:int,watched_time:int>\n",
      "                                       +- *(5) Sort [user_uid#1915 ASC NULLS FIRST, element_uid#1916 ASC NULLS FIRST], false, 0\n",
      "                                          +- Exchange hashpartitioning(user_uid#1915, element_uid#1916, 200), ENSURE_REQUIREMENTS, [plan_id=1951]\n",
      "                                             +- *(4) Filter ((rating#1917 IN (8,9,10) AND isnotnull(user_uid#1915)) AND isnotnull(element_uid#1916))\n",
      "                                                +- FileScan csv [user_uid#1915,element_uid#1916,rating#1917] Batched: false, DataFilters: [rating#1917 IN (8,9,10), isnotnull(user_uid#1915), isnotnull(element_uid#1916)], Format: CSV, Location: InMemoryFileIndex(1 paths)[s3a://input/data/cut_ratings.csv], PartitionFilters: [], PushedFilters: [In(rating, [10,8,9]), IsNotNull(user_uid), IsNotNull(element_uid)], ReadSchema: struct<user_uid:int,element_uid:int,rating:int>\n",
      "\n",
      "\n",
      "\n",
      "Результаты:\n"
     ]
    },
    {
     "name": "stderr",
     "output_type": "stream",
     "text": [
      "                                                                                \r"
     ]
    },
    {
     "name": "stdout",
     "output_type": "stream",
     "text": [
      "+--------+------------------------------+------------------------------+------------------------------+------------------------------+-------------------------------+-------------------------------+\n",
      "|user_uid|feat_max_watched_time_rating_8|feat_min_watched_time_rating_8|feat_max_watched_time_rating_9|feat_min_watched_time_rating_9|feat_max_watched_time_rating_10|feat_min_watched_time_rating_10|\n",
      "+--------+------------------------------+------------------------------+------------------------------+------------------------------+-------------------------------+-------------------------------+\n",
      "|489751  |NULL                          |NULL                          |NULL                          |NULL                          |5447                           |5447                           |\n",
      "|355521  |NULL                          |NULL                          |NULL                          |NULL                          |7210                           |7210                           |\n",
      "|126454  |NULL                          |NULL                          |NULL                          |NULL                          |34076                          |34076                          |\n",
      "|241442  |NULL                          |NULL                          |NULL                          |NULL                          |99265                          |99265                          |\n",
      "|460484  |NULL                          |NULL                          |NULL                          |NULL                          |6959                           |6959                           |\n",
      "|88783   |NULL                          |NULL                          |NULL                          |NULL                          |14401                          |14401                          |\n",
      "|436138  |NULL                          |NULL                          |NULL                          |NULL                          |7652                           |7652                           |\n",
      "|524044  |NULL                          |NULL                          |NULL                          |NULL                          |7743                           |7547                           |\n",
      "|530284  |NULL                          |NULL                          |NULL                          |NULL                          |7861                           |7861                           |\n",
      "|74017   |NULL                          |NULL                          |NULL                          |NULL                          |6001                           |6001                           |\n",
      "|315498  |NULL                          |NULL                          |NULL                          |NULL                          |7469                           |7469                           |\n",
      "|488504  |NULL                          |NULL                          |NULL                          |NULL                          |14411                          |14411                          |\n",
      "|131626  |NULL                          |NULL                          |NULL                          |NULL                          |7205                           |7205                           |\n",
      "|145083  |NULL                          |NULL                          |NULL                          |NULL                          |7361                           |7361                           |\n",
      "|25048   |NULL                          |NULL                          |NULL                          |NULL                          |8466                           |6778                           |\n",
      "|394262  |NULL                          |NULL                          |NULL                          |NULL                          |5717                           |5717                           |\n",
      "|569885  |NULL                          |NULL                          |NULL                          |NULL                          |7414                           |7414                           |\n",
      "|6727    |NULL                          |NULL                          |NULL                          |NULL                          |7593                           |7593                           |\n",
      "|379969  |NULL                          |NULL                          |NULL                          |NULL                          |13884                          |7731                           |\n",
      "|207861  |NULL                          |NULL                          |NULL                          |NULL                          |8088                           |8088                           |\n",
      "+--------+------------------------------+------------------------------+------------------------------+------------------------------+-------------------------------+-------------------------------+\n",
      "only showing top 20 rows\n",
      "\n",
      "\n",
      "Схема результата:\n",
      "root\n",
      " |-- user_uid: integer (nullable = true)\n",
      " |-- feat_max_watched_time_rating_8: integer (nullable = true)\n",
      " |-- feat_min_watched_time_rating_8: integer (nullable = true)\n",
      " |-- feat_max_watched_time_rating_9: integer (nullable = true)\n",
      " |-- feat_min_watched_time_rating_9: integer (nullable = true)\n",
      " |-- feat_max_watched_time_rating_10: integer (nullable = true)\n",
      " |-- feat_min_watched_time_rating_10: integer (nullable = true)\n",
      "\n"
     ]
    }
   ],
   "source": [
    "# Загрузка данных\n",
    "transactions_df = spark.read.csv(\"s3a://input/data/cut_transactions.csv\", header=True, inferSchema=True)\n",
    "ratings_df = spark.read.csv(\"s3a://input/data/cut_ratings.csv\", header=True, inferSchema=True)\n",
    "ids_df = spark.read.csv(\"s3a://input/data/ids.csv\", header=True, inferSchema=True)\n",
    "\n",
    "# Оптимизация 1: Фильтрация рейтингов заранее\n",
    "# Это уменьшает объем данных для последующих операций\n",
    "filtered_ratings = ratings_df.filter(F.col(\"rating\").isin(8, 9, 10))\n",
    "\n",
    "# Оптимизация 2: Join с фильтрованными рейтингами\n",
    "# Используем inner join, чтобы оставить только релевантные записи\n",
    "joined_df = transactions_df.join(filtered_ratings, [\"user_uid\", \"element_uid\"], \"inner\")\n",
    "\n",
    "# Оптимизация 3: Агрегация данных\n",
    "# Группируем по user_uid и rating, вычисляя max и min watched_time\n",
    "aggregated_df = joined_df.groupBy(\"user_uid\", \"rating\") \\\n",
    "    .agg(\n",
    "        F.max(\"watched_time\").alias(\"max_watched_time\"),\n",
    "        F.min(\"watched_time\").alias(\"min_watched_time\")\n",
    "    )\n",
    "\n",
    "# Оптимизация 4: Создание pivot таблицы для формирования требуемых колонок\n",
    "# Это позволяет получить нужный формат данных за одну операцию\n",
    "pivot_df = aggregated_df.groupBy(\"user_uid\") \\\n",
    "    .pivot(\"rating\", [8, 9, 10]) \\\n",
    "    .agg(\n",
    "        F.first(\"max_watched_time\").alias(\"max_watched_time\"),\n",
    "        F.first(\"min_watched_time\").alias(\"min_watched_time\")\n",
    "    )\n",
    "\n",
    "# Переименование колонок в требуемый формат\n",
    "for rating in [8, 9, 10]:\n",
    "    pivot_df = pivot_df \\\n",
    "        .withColumnRenamed(f\"{rating}_max_watched_time\", f\"feat_max_watched_time_rating_{rating}\") \\\n",
    "        .withColumnRenamed(f\"{rating}_min_watched_time\", f\"feat_min_watched_time_rating_{rating}\")\n",
    "\n",
    "# Оптимизация 5: Join с выборкой пользователей\n",
    "# Используем left join, чтобы сохранить всех пользователей из выборки\n",
    "result = ids_df.join(pivot_df, \"user_uid\", \"left\")\n",
    "\n",
    "# Вывод плана выполнения\n",
    "print(\"План выполнения:\")\n",
    "result.explain()\n",
    "\n",
    "# Вывод результатов\n",
    "print(\"\\nРезультаты:\")\n",
    "result.show(truncate=False)\n",
    "\n",
    "# Вывод схемы данных\n",
    "print(\"\\nСхема результата:\")\n",
    "result.printSchema()"
   ]
  },
  {
   "cell_type": "markdown",
   "id": "dfc73c35-f5ac-4137-a6cc-232f30818265",
   "metadata": {},
   "source": [
    "Фильтрация рейтингов на начальном этапе уменьшает объем данных для последующих операций. Использование inner join с фильтрованными рейтингами сокращает количество обрабатываемых записей. Группировка и агрегация выполняются до создания pivot таблицы, что уменьшает объем данных для pivot операции. Применение pivot позволяет эффективно формировать требуемые колонки за одну операцию. Использование left join с выборкой пользователей гарантирует, что все пользователи из выборки будут включены в результат, даже если у них нет соответствующих данных."
   ]
  }
 ],
 "metadata": {
  "kernelspec": {
   "display_name": "Python 3 (ipykernel)",
   "language": "python",
   "name": "python3"
  },
  "language_info": {
   "codemirror_mode": {
    "name": "ipython",
    "version": 3
   },
   "file_extension": ".py",
   "mimetype": "text/x-python",
   "name": "python",
   "nbconvert_exporter": "python",
   "pygments_lexer": "ipython3",
   "version": "3.11.9"
  }
 },
 "nbformat": 4,
 "nbformat_minor": 5
}
